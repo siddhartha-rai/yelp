{
 "cells": [
  {
   "cell_type": "code",
   "execution_count": 1,
   "metadata": {
    "collapsed": true
   },
   "outputs": [],
   "source": [
    "import pandas as pd \n",
    "import numpy as np \n",
    "import datetime \n",
    "import matplotlib.pyplot as plt\n",
    "import copy\n",
    "from sklearn.linear_model import LinearRegression\n",
    "from sklearn.linear_model import LogisticRegression\n",
    "from sklearn.ensemble import RandomForestRegressor\n",
    "from sklearn.ensemble import GradientBoostingRegressor\n",
    "from sklearn.ensemble import GradientBoostingClassifier\n",
    "from sklearn.cross_validation import train_test_split\n",
    "from sklearn.metrics import precision_recall_curve\n",
    "from sklearn.metrics import average_precision_score"
   ]
  },
  {
   "cell_type": "code",
   "execution_count": 2,
   "metadata": {
    "collapsed": false
   },
   "outputs": [
    {
     "name": "stderr",
     "output_type": "stream",
     "text": [
      "/Users/srai/anaconda/lib/python3.5/site-packages/IPython/core/interactiveshell.py:2723: DtypeWarning: Columns (1,4,7,17,26,29,49,60,62,79,86,94) have mixed types. Specify dtype option on import or set low_memory=False.\n",
      "  interactivity=interactivity, compiler=compiler, result=result)\n"
     ]
    }
   ],
   "source": [
    "business = pd.read_csv('business.csv')"
   ]
  },
  {
   "cell_type": "code",
   "execution_count": 3,
   "metadata": {
    "collapsed": false,
    "scrolled": true
   },
   "outputs": [
    {
     "data": {
      "text/plain": [
       "Index(['attributes.Ambience.divey', 'attributes.Dietary Restrictions.vegan',\n",
       "       'attributes.Happy Hour', 'hours.Thursday.open',\n",
       "       'attributes.Order at Counter',\n",
       "       'attributes.Hair Types Specialized In.africanamerican',\n",
       "       'attributes.Hair Types Specialized In.kids', 'attributes.BYOB',\n",
       "       'hours.Friday.open', 'attributes.Good For.latenight',\n",
       "       'attributes.Outdoor Seating', 'attributes.Alcohol',\n",
       "       'attributes.Ambience.classy', 'attributes.By Appointment Only',\n",
       "       'attributes.Parking.lot', 'business_id', 'attributes.Ambience.touristy',\n",
       "       'attributes.Corkage', 'hours.Tuesday.open',\n",
       "       'attributes.Good For.brunch', 'categories', 'attributes.Waiter Service',\n",
       "       'hours.Monday.open', 'name', 'attributes.Parking.street',\n",
       "       'attributes.Ambience.hipster', 'attributes.BYOB/Corkage',\n",
       "       'attributes.Hair Types Specialized In.straightperms',\n",
       "       'attributes.Music.live', 'attributes.Dietary Restrictions.dairy-free',\n",
       "       'attributes.Music.background_music', 'attributes.Price Range',\n",
       "       'attributes.Good For.breakfast', 'attributes.Parking.garage',\n",
       "       'attributes.Music.karaoke', 'attributes.Good For Dancing',\n",
       "       'review_count', 'attributes.Hair Types Specialized In.asian', 'state',\n",
       "       'attributes.Accepts Credit Cards', 'hours.Friday.close',\n",
       "       'attributes.Good For.lunch', 'attributes.Parking.valet',\n",
       "       'attributes.Take-out', 'full_address', 'hours.Thursday.close',\n",
       "       'attributes.Hair Types Specialized In.coloring',\n",
       "       'attributes.Good For.dessert', 'attributes.Music.video',\n",
       "       'attributes.Dietary Restrictions.halal',\n",
       "       'attributes.Takes Reservations', 'hours.Saturday.open',\n",
       "       'attributes.Ages Allowed', 'attributes.Ambience.trendy',\n",
       "       'attributes.Delivery', 'hours.Wednesday.close', 'attributes.Wi-Fi',\n",
       "       'open', 'city', 'attributes.Wheelchair Accessible',\n",
       "       'attributes.Dietary Restrictions.gluten-free', 'stars',\n",
       "       'attributes.Dietary Restrictions.kosher', 'type', 'attributes.Caters',\n",
       "       'attributes.Ambience.intimate', 'latitude',\n",
       "       'attributes.Good For.dinner', 'attributes.Coat Check', 'longitude',\n",
       "       'hours.Monday.close', 'attributes.Hair Types Specialized In.extensions',\n",
       "       'hours.Tuesday.close', 'hours.Saturday.close',\n",
       "       'attributes.Good for Kids', 'attributes.Parking.validated',\n",
       "       'hours.Sunday.open', 'attributes.Accepts Insurance',\n",
       "       'attributes.Music.dj', 'attributes.Dietary Restrictions.soy-free',\n",
       "       'attributes.Has TV', 'hours.Sunday.close', 'attributes.Ambience.casual',\n",
       "       'attributes.Hair Types Specialized In.perms', 'attributes.Dogs Allowed',\n",
       "       'attributes.Drive-Thru', 'attributes.Dietary Restrictions.vegetarian',\n",
       "       'hours.Wednesday.open', 'attributes.Noise Level', 'attributes.Smoking',\n",
       "       'attributes.Attire', 'attributes.Hair Types Specialized In.curly',\n",
       "       'attributes.Good For Groups', 'neighborhoods',\n",
       "       'attributes.Open 24 Hours', 'attributes.Ambience.romantic',\n",
       "       'attributes.Music.jukebox', 'attributes.Ambience.upscale'],\n",
       "      dtype='object')"
      ]
     },
     "execution_count": 3,
     "metadata": {},
     "output_type": "execute_result"
    }
   ],
   "source": [
    "business.columns"
   ]
  },
  {
   "cell_type": "code",
   "execution_count": 4,
   "metadata": {
    "collapsed": false
   },
   "outputs": [
    {
     "data": {
      "text/html": [
       "<div>\n",
       "<table border=\"1\" class=\"dataframe\">\n",
       "  <thead>\n",
       "    <tr style=\"text-align: right;\">\n",
       "      <th></th>\n",
       "      <th>attributes.Ambience.divey</th>\n",
       "      <th>attributes.Dietary Restrictions.vegan</th>\n",
       "      <th>attributes.Happy Hour</th>\n",
       "      <th>hours.Thursday.open</th>\n",
       "      <th>attributes.Order at Counter</th>\n",
       "      <th>attributes.Hair Types Specialized In.africanamerican</th>\n",
       "      <th>attributes.Hair Types Specialized In.kids</th>\n",
       "      <th>attributes.BYOB</th>\n",
       "      <th>hours.Friday.open</th>\n",
       "      <th>attributes.Good For.latenight</th>\n",
       "      <th>...</th>\n",
       "      <th>attributes.Noise Level</th>\n",
       "      <th>attributes.Smoking</th>\n",
       "      <th>attributes.Attire</th>\n",
       "      <th>attributes.Hair Types Specialized In.curly</th>\n",
       "      <th>attributes.Good For Groups</th>\n",
       "      <th>neighborhoods</th>\n",
       "      <th>attributes.Open 24 Hours</th>\n",
       "      <th>attributes.Ambience.romantic</th>\n",
       "      <th>attributes.Music.jukebox</th>\n",
       "      <th>attributes.Ambience.upscale</th>\n",
       "    </tr>\n",
       "  </thead>\n",
       "  <tbody>\n",
       "    <tr>\n",
       "      <th>0</th>\n",
       "      <td>False</td>\n",
       "      <td>NaN</td>\n",
       "      <td>NaN</td>\n",
       "      <td>11:00</td>\n",
       "      <td>NaN</td>\n",
       "      <td>NaN</td>\n",
       "      <td>NaN</td>\n",
       "      <td>NaN</td>\n",
       "      <td>11:00</td>\n",
       "      <td>False</td>\n",
       "      <td>...</td>\n",
       "      <td>average</td>\n",
       "      <td>NaN</td>\n",
       "      <td>casual</td>\n",
       "      <td>NaN</td>\n",
       "      <td>True</td>\n",
       "      <td>[]</td>\n",
       "      <td>NaN</td>\n",
       "      <td>False</td>\n",
       "      <td>NaN</td>\n",
       "      <td>False</td>\n",
       "    </tr>\n",
       "    <tr>\n",
       "      <th>1</th>\n",
       "      <td>NaN</td>\n",
       "      <td>NaN</td>\n",
       "      <td>True</td>\n",
       "      <td>NaN</td>\n",
       "      <td>NaN</td>\n",
       "      <td>NaN</td>\n",
       "      <td>NaN</td>\n",
       "      <td>NaN</td>\n",
       "      <td>NaN</td>\n",
       "      <td>NaN</td>\n",
       "      <td>...</td>\n",
       "      <td>NaN</td>\n",
       "      <td>NaN</td>\n",
       "      <td>NaN</td>\n",
       "      <td>NaN</td>\n",
       "      <td>True</td>\n",
       "      <td>[]</td>\n",
       "      <td>NaN</td>\n",
       "      <td>NaN</td>\n",
       "      <td>NaN</td>\n",
       "      <td>NaN</td>\n",
       "    </tr>\n",
       "    <tr>\n",
       "      <th>2</th>\n",
       "      <td>NaN</td>\n",
       "      <td>NaN</td>\n",
       "      <td>NaN</td>\n",
       "      <td>NaN</td>\n",
       "      <td>NaN</td>\n",
       "      <td>NaN</td>\n",
       "      <td>NaN</td>\n",
       "      <td>NaN</td>\n",
       "      <td>NaN</td>\n",
       "      <td>NaN</td>\n",
       "      <td>...</td>\n",
       "      <td>NaN</td>\n",
       "      <td>NaN</td>\n",
       "      <td>NaN</td>\n",
       "      <td>NaN</td>\n",
       "      <td>NaN</td>\n",
       "      <td>[]</td>\n",
       "      <td>NaN</td>\n",
       "      <td>NaN</td>\n",
       "      <td>NaN</td>\n",
       "      <td>NaN</td>\n",
       "    </tr>\n",
       "    <tr>\n",
       "      <th>3</th>\n",
       "      <td>True</td>\n",
       "      <td>NaN</td>\n",
       "      <td>False</td>\n",
       "      <td>10:00</td>\n",
       "      <td>NaN</td>\n",
       "      <td>NaN</td>\n",
       "      <td>NaN</td>\n",
       "      <td>NaN</td>\n",
       "      <td>10:00</td>\n",
       "      <td>False</td>\n",
       "      <td>...</td>\n",
       "      <td>average</td>\n",
       "      <td>no</td>\n",
       "      <td>casual</td>\n",
       "      <td>NaN</td>\n",
       "      <td>True</td>\n",
       "      <td>[]</td>\n",
       "      <td>NaN</td>\n",
       "      <td>False</td>\n",
       "      <td>NaN</td>\n",
       "      <td>False</td>\n",
       "    </tr>\n",
       "    <tr>\n",
       "      <th>4</th>\n",
       "      <td>NaN</td>\n",
       "      <td>NaN</td>\n",
       "      <td>NaN</td>\n",
       "      <td>11:00</td>\n",
       "      <td>NaN</td>\n",
       "      <td>NaN</td>\n",
       "      <td>NaN</td>\n",
       "      <td>NaN</td>\n",
       "      <td>11:00</td>\n",
       "      <td>NaN</td>\n",
       "      <td>...</td>\n",
       "      <td>NaN</td>\n",
       "      <td>NaN</td>\n",
       "      <td>NaN</td>\n",
       "      <td>NaN</td>\n",
       "      <td>True</td>\n",
       "      <td>[]</td>\n",
       "      <td>NaN</td>\n",
       "      <td>NaN</td>\n",
       "      <td>NaN</td>\n",
       "      <td>NaN</td>\n",
       "    </tr>\n",
       "  </tbody>\n",
       "</table>\n",
       "<p>5 rows × 98 columns</p>\n",
       "</div>"
      ],
      "text/plain": [
       "  attributes.Ambience.divey attributes.Dietary Restrictions.vegan  \\\n",
       "0                     False                                   NaN   \n",
       "1                       NaN                                   NaN   \n",
       "2                       NaN                                   NaN   \n",
       "3                      True                                   NaN   \n",
       "4                       NaN                                   NaN   \n",
       "\n",
       "  attributes.Happy Hour hours.Thursday.open attributes.Order at Counter  \\\n",
       "0                   NaN               11:00                         NaN   \n",
       "1                  True                 NaN                         NaN   \n",
       "2                   NaN                 NaN                         NaN   \n",
       "3                 False               10:00                         NaN   \n",
       "4                   NaN               11:00                         NaN   \n",
       "\n",
       "  attributes.Hair Types Specialized In.africanamerican  \\\n",
       "0                                                NaN     \n",
       "1                                                NaN     \n",
       "2                                                NaN     \n",
       "3                                                NaN     \n",
       "4                                                NaN     \n",
       "\n",
       "  attributes.Hair Types Specialized In.kids attributes.BYOB hours.Friday.open  \\\n",
       "0                                       NaN             NaN             11:00   \n",
       "1                                       NaN             NaN               NaN   \n",
       "2                                       NaN             NaN               NaN   \n",
       "3                                       NaN             NaN             10:00   \n",
       "4                                       NaN             NaN             11:00   \n",
       "\n",
       "  attributes.Good For.latenight             ...              \\\n",
       "0                         False             ...               \n",
       "1                           NaN             ...               \n",
       "2                           NaN             ...               \n",
       "3                         False             ...               \n",
       "4                           NaN             ...               \n",
       "\n",
       "  attributes.Noise Level attributes.Smoking attributes.Attire  \\\n",
       "0                average                NaN            casual   \n",
       "1                    NaN                NaN               NaN   \n",
       "2                    NaN                NaN               NaN   \n",
       "3                average                 no            casual   \n",
       "4                    NaN                NaN               NaN   \n",
       "\n",
       "  attributes.Hair Types Specialized In.curly attributes.Good For Groups  \\\n",
       "0                                        NaN                       True   \n",
       "1                                        NaN                       True   \n",
       "2                                        NaN                        NaN   \n",
       "3                                        NaN                       True   \n",
       "4                                        NaN                       True   \n",
       "\n",
       "  neighborhoods attributes.Open 24 Hours attributes.Ambience.romantic  \\\n",
       "0            []                      NaN                        False   \n",
       "1            []                      NaN                          NaN   \n",
       "2            []                      NaN                          NaN   \n",
       "3            []                      NaN                        False   \n",
       "4            []                      NaN                          NaN   \n",
       "\n",
       "  attributes.Music.jukebox attributes.Ambience.upscale  \n",
       "0                      NaN                       False  \n",
       "1                      NaN                         NaN  \n",
       "2                      NaN                         NaN  \n",
       "3                      NaN                       False  \n",
       "4                      NaN                         NaN  \n",
       "\n",
       "[5 rows x 98 columns]"
      ]
     },
     "execution_count": 4,
     "metadata": {},
     "output_type": "execute_result"
    }
   ],
   "source": [
    "business.head()"
   ]
  },
  {
   "cell_type": "markdown",
   "metadata": {},
   "source": [
    "## Lets take a simple problem \n",
    "#### Can we predict the star rating of a business based on some very simple business attributes such as location . The motivation behind this is that, often we will find examples where a business has not been rated by users, (for example new business). In cases like this it will be useful if we can predict a star rating based on some basic atributes of the business."
   ]
  },
  {
   "cell_type": "code",
   "execution_count": 5,
   "metadata": {
    "collapsed": false
   },
   "outputs": [],
   "source": [
    "X = business\n",
    "y = business['stars']\n",
    "X_train_index,X_test_index,y_train,y_test = train_test_split(X.index,y,test_size=0.2, random_state = 1)"
   ]
  },
  {
   "cell_type": "code",
   "execution_count": 6,
   "metadata": {
    "collapsed": false,
    "scrolled": true
   },
   "outputs": [],
   "source": [
    "numeric_columns = ['latitude', 'longitude']"
   ]
  },
  {
   "cell_type": "code",
   "execution_count": 7,
   "metadata": {
    "collapsed": false
   },
   "outputs": [],
   "source": [
    "X_train = X.iloc[X_train_index].as_matrix(numeric_columns)\n",
    "X_test = X.iloc[X_test_index].as_matrix(numeric_columns)"
   ]
  },
  {
   "cell_type": "code",
   "execution_count": 8,
   "metadata": {
    "collapsed": true
   },
   "outputs": [],
   "source": [
    "import sklearn.linear_model\n",
    "lr = sklearn.linear_model.LinearRegression()\n",
    "model_lr = lr.fit(X_train, y_train)"
   ]
  },
  {
   "cell_type": "code",
   "execution_count": 9,
   "metadata": {
    "collapsed": false
   },
   "outputs": [
    {
     "data": {
      "text/plain": [
       "0.00033301485390291319"
      ]
     },
     "execution_count": 9,
     "metadata": {},
     "output_type": "execute_result"
    }
   ],
   "source": [
    "model_lr.score(X_train, y_train)"
   ]
  },
  {
   "cell_type": "code",
   "execution_count": 10,
   "metadata": {
    "collapsed": false
   },
   "outputs": [
    {
     "data": {
      "text/plain": [
       "0.00022648665467461804"
      ]
     },
     "execution_count": 10,
     "metadata": {},
     "output_type": "execute_result"
    }
   ],
   "source": [
    "model_lr.score(X_test, y_test)"
   ]
  },
  {
   "cell_type": "markdown",
   "metadata": {},
   "source": [
    "#### Above scores suggest that Linear Regression model does not fit the data well, in fact it underfits. The training score is low, and the testing score is also low"
   ]
  },
  {
   "cell_type": "markdown",
   "metadata": {},
   "source": [
    "#### Lets now add some non-numeric features to the model and see if the score improves. For doing this we need to identify non-numeric features which we beleive based on understanding of the problem will improve the prediction. As an example lets add all attributes of the business which provide information about the ambience, and also its price range. These attributes together with location might be good predictors for the star rating"
   ]
  },
  {
   "cell_type": "code",
   "execution_count": 11,
   "metadata": {
    "collapsed": false
   },
   "outputs": [
    {
     "name": "stdout",
     "output_type": "stream",
     "text": [
      "Train Score =  0.0141083917798\n",
      "Test Score =  0.0139446515319\n"
     ]
    }
   ],
   "source": [
    "non_numeric_columns_ambience = [k for k in business.columns if 'Ambience' in k]\n",
    "feature_columns = ['latitude', 'longitude','attributes.Price Range']\n",
    "feature_columns.extend(non_numeric_columns_ambience)\n",
    "X = business\n",
    "y = business['stars']\n",
    "X_train_index,X_test_index,y_train,y_test = train_test_split(X.index,y,test_size=0.2, random_state = 1)\n",
    "X_train = X.iloc[X_train_index].fillna(-1).as_matrix(feature_columns)\n",
    "X_test = X.iloc[X_test_index].fillna(-1).as_matrix(feature_columns)\n",
    "lr = sklearn.linear_model.LinearRegression()\n",
    "model_lr = lr.fit(X_train, y_train)\n",
    "print(\"Train Score = \", model_lr.score(X_train, y_train))\n",
    "print(\"Test Score = \", model_lr.score(X_test, y_test))"
   ]
  },
  {
   "cell_type": "markdown",
   "metadata": {},
   "source": [
    "####  Above attributes improve our R2 score very slightly for predicting the review count of a business based on its meta data attributes. Lets formalize this approach a bit, so that we can apply this more easily to other examples, and continue our search for better models to improve our scores"
   ]
  },
  {
   "cell_type": "code",
   "execution_count": 12,
   "metadata": {
    "collapsed": true
   },
   "outputs": [],
   "source": [
    "def get_columns_from_prefix(biz_df, prefix):\n",
    "    return [col for col in biz_df.columns if prefix in col]\n",
    "def eval_score(model, model_name, biz_df, numeric_col, other_col_prefix, y_col_name):\n",
    "    X = biz_df\n",
    "    y = biz_df[y_col_name]\n",
    "    feature_columns = copy.copy(numeric_col)\n",
    "    for col_prefix in other_col_prefix:\n",
    "        feature_columns.extend(get_columns_from_prefix(biz_df, col_prefix))\n",
    "    X_train_index,X_test_index,y_train,y_test = train_test_split(X.index,y,test_size=0.2, random_state = 1)    \n",
    "    X_train = X.iloc[X_train_index].fillna(0).as_matrix(feature_columns)\n",
    "    X_test = X.iloc[X_test_index].fillna(0).as_matrix(feature_columns)\n",
    "    model = model.fit(X_train, y_train)\n",
    "    train_score = model.score(X_train, y_train)\n",
    "    test_score = model.score(X_test, y_test)\n",
    "    print('Model Name : {0}, Train Score = {1}, Test Score = {2}, Train Set size = {3}'.format(model_name, train_score,test_score,X_train.shape))\n",
    "    return {\n",
    "        'X_train':X_train,\n",
    "        'X_test':X_test,\n",
    "        'y_train':y_train,\n",
    "        'y_test':y_test,\n",
    "        'model':model,\n",
    "        'train_score':train_score,\n",
    "        'test_score':test_score}"
   ]
  },
  {
   "cell_type": "markdown",
   "metadata": {},
   "source": [
    "#### Lets run the same example from before with above functions to confirm results produced are identical"
   ]
  },
  {
   "cell_type": "code",
   "execution_count": 13,
   "metadata": {
    "collapsed": false
   },
   "outputs": [
    {
     "name": "stdout",
     "output_type": "stream",
     "text": [
      "Model Name : LinearRegression, Train Score = 0.006101224860929788, Test Score = 0.006819635864603879, Train Set size = (68720, 12)\n"
     ]
    }
   ],
   "source": [
    "numeric_col_names = ['latitude', 'longitude','attributes.Price Range']\n",
    "other_col_prefix = ['Ambience']\n",
    "y_col_name = 'stars'\n",
    "model = sklearn.linear_model.LinearRegression()\n",
    "eval_res = eval_score(model, 'LinearRegression', business, numeric_col_names, other_col_prefix, y_col_name)"
   ]
  },
  {
   "cell_type": "markdown",
   "metadata": {},
   "source": [
    "#### Evaluation results are identical to previous run. Now lets add more features, and evaluate if it improves the model scores"
   ]
  },
  {
   "cell_type": "code",
   "execution_count": 14,
   "metadata": {
    "collapsed": false
   },
   "outputs": [
    {
     "name": "stdout",
     "output_type": "stream",
     "text": [
      "Model Name : LinearRegression, Train Score = 0.036814226074976864, Test Score = 0.037212404973611224, Train Set size = (68720, 46)\n"
     ]
    }
   ],
   "source": [
    "numeric_col_names = ['latitude', 'longitude','attributes.Price Range']\n",
    "other_col_prefix = ['Ambience','Good For','Music', 'Parking', 'Dietary Restrictions', 'Hair']\n",
    "y_col_name = 'stars'\n",
    "model = sklearn.linear_model.LinearRegression()\n",
    "eval_res = eval_score(model,'LinearRegression', business, numeric_col_names, other_col_prefix, y_col_name)"
   ]
  },
  {
   "cell_type": "markdown",
   "metadata": {},
   "source": [
    "#### Addition of more features improved the R2 score on test data slightly. Notice that we have not yet considered the category information while computing these models. Lets try adding the category infomration as well. "
   ]
  },
  {
   "cell_type": "markdown",
   "metadata": {},
   "source": [
    "#### Lets add all information available from categores as boolean variables. For example if a business has 'Mexican' as a category, we will add a columns to our data frame that will be True when 'Mexican' is a category present in the 'categories' column for that business. To compute this we will need to know the set of all categories first "
   ]
  },
  {
   "cell_type": "code",
   "execution_count": 15,
   "metadata": {
    "collapsed": false
   },
   "outputs": [],
   "source": [
    "def add_categories(business):\n",
    "    all_categories = pd.unique([item for sublist in business['categories'].apply(eval) for item in sublist])\n",
    "    for cat in all_categories:\n",
    "        business['computed.category.' + str(cat)] = business['categories'].apply(lambda x: True if cat in x else False)\n",
    "    return business\n",
    "business = add_categories(business)"
   ]
  },
  {
   "cell_type": "markdown",
   "metadata": {},
   "source": [
    "#### Lets compute new models now that use these additional columns "
   ]
  },
  {
   "cell_type": "code",
   "execution_count": 16,
   "metadata": {
    "collapsed": false
   },
   "outputs": [
    {
     "name": "stdout",
     "output_type": "stream",
     "text": [
      "Model Name : LinearRegression, Train Score = 0.25138468773889755, Test Score = 0.22334746185294585, Train Set size = (68720, 1078)\n"
     ]
    }
   ],
   "source": [
    "numeric_col_names = ['latitude', 'longitude','attributes.Price Range']\n",
    "other_col_prefix = ['Ambience','Good For','Music', 'Parking', 'Dietary Restrictions', 'Hair', 'computed.category.']\n",
    "y_col_name = 'stars'\n",
    "lr = LinearRegression()\n",
    "eval_res = eval_score(lr,'LinearRegression', business, numeric_col_names, other_col_prefix, y_col_name)"
   ]
  },
  {
   "cell_type": "markdown",
   "metadata": {},
   "source": [
    "#### The train score is  slightly greater than the test score,indicating overfitting in this linear regression model. Lets see if building a model that can capture the non-linearity and interactiion effects amongst the features. RandomForest and GradientBoosting approaches are both capable of acheiving this. We expect both the train and test scores to imrove as a result of using these models.   These models  takes a few minutes to generate"
   ]
  },
  {
   "cell_type": "code",
   "execution_count": null,
   "metadata": {
    "collapsed": false
   },
   "outputs": [
    {
     "name": "stderr",
     "output_type": "stream",
     "text": [
      "[Parallel(n_jobs=4)]: Done  42 tasks      | elapsed:   52.4s\n",
      "[Parallel(n_jobs=4)]: Done 100 out of 100 | elapsed:  1.9min finished\n",
      "[Parallel(n_jobs=4)]: Done  42 tasks      | elapsed:    0.1s\n",
      "[Parallel(n_jobs=4)]: Done 100 out of 100 | elapsed:    0.2s finished\n",
      "[Parallel(n_jobs=4)]: Done  42 tasks      | elapsed:    0.0s\n",
      "[Parallel(n_jobs=4)]: Done 100 out of 100 | elapsed:    0.1s finished\n"
     ]
    },
    {
     "name": "stdout",
     "output_type": "stream",
     "text": [
      "Model Name : Random Forest, Train Score = 0.21186252202353684, Test Score = 0.16871236196909656, Train Set size = (68720, 1078)\n"
     ]
    }
   ],
   "source": [
    "rf = RandomForestRegressor(n_estimators=100, max_depth = 12, verbose = 1,n_jobs = 4)\n",
    "eval_res = eval_score(rf,'Random Forest', business, numeric_col_names, other_col_prefix, y_col_name)"
   ]
  },
  {
   "cell_type": "markdown",
   "metadata": {},
   "source": [
    "#### The random forest model above has lower score on both train data as well as test data. This suggests that the random forest as defined above is not able to fit the data in a manner comparable with Linear Regression"
   ]
  },
  {
   "cell_type": "markdown",
   "metadata": {},
   "source": [
    "#### We continue to search for models that can capture the patterns in the data in a better manner. Lets continue to search for a model that improves the training and test scores beyond the Linear Regression model. Lets explore now if gradient boosting regression, another advanced regression technique can improve the fit by improving the score on our training, as well as test set "
   ]
  },
  {
   "cell_type": "code",
   "execution_count": null,
   "metadata": {
    "collapsed": false,
    "scrolled": true
   },
   "outputs": [
    {
     "name": "stdout",
     "output_type": "stream",
     "text": [
      "      Iter       Train Loss   Remaining Time \n",
      "         1           0.8674           10.46m\n",
      "         2           0.8455           11.73m\n",
      "         3           0.8274           11.36m\n",
      "         4           0.8098           11.09m\n"
     ]
    }
   ],
   "source": [
    "gbr = GradientBoostingRegressor(max_depth = 10,  verbose=10)\n",
    "eval_res = eval_score(gbr, 'Gradient Boosting',business, numeric_col_names, other_col_prefix, y_col_name)"
   ]
  },
  {
   "cell_type": "markdown",
   "metadata": {},
   "source": [
    "#### Above Gradient Boosting model improves both the training score as well as test score in comparision with the LinearRegression model. However there is a significant gap between the train and test scores. This indicates overfitting. At this stage we expect that reducing model complexity should not hurt the test score.  Lets reduce model complexity by reducing depth of individual trees in the ensamble"
   ]
  },
  {
   "cell_type": "code",
   "execution_count": null,
   "metadata": {
    "collapsed": false,
    "scrolled": true
   },
   "outputs": [],
   "source": [
    "gbr = GradientBoostingRegressor(max_depth = 10,  verbose=10)\n",
    "eval_res = eval_score(gbr, 'Gradient Boosting',business, numeric_col_names, other_col_prefix, y_col_name)"
   ]
  },
  {
   "cell_type": "markdown",
   "metadata": {},
   "source": [
    "#### As expected the gap between the test and train scores has reduced. However the test score has also reduced.  \n",
    "#### The best model for improving the scores on test data set so far, is the gradient boosted model with  individual trees in the ensamble grown to a depth of 10"
   ]
  },
  {
   "cell_type": "markdown",
   "metadata": {},
   "source": [
    "#### Lets try to bring in features into the model that also include user behavior. \n",
    "#### Does the prediction of a business star rating improve if we know the number of checkins to the business on different days?"
   ]
  },
  {
   "cell_type": "markdown",
   "metadata": {},
   "source": [
    "#### Lets get the check in data "
   ]
  },
  {
   "cell_type": "code",
   "execution_count": null,
   "metadata": {
    "collapsed": true
   },
   "outputs": [],
   "source": [
    "checkin = pd.read_csv('checkin.csv')"
   ]
  },
  {
   "cell_type": "code",
   "execution_count": null,
   "metadata": {
    "collapsed": false
   },
   "outputs": [],
   "source": [
    "checkin.head()"
   ]
  },
  {
   "cell_type": "markdown",
   "metadata": {},
   "source": [
    "\n",
    "#### Lets see if the prediction scores for star rating of a business can be improved if we also include the check in info as one of the predictors. Note that this attribute is a user interaction based attribute, and deviates slightly from our use case that a business was new. However this score  "
   ]
  },
  {
   "cell_type": "code",
   "execution_count": null,
   "metadata": {
    "collapsed": false
   },
   "outputs": [],
   "source": [
    "business_checkin = business.merge(checkin, on = 'business_id', how = 'left')"
   ]
  },
  {
   "cell_type": "code",
   "execution_count": null,
   "metadata": {
    "collapsed": false
   },
   "outputs": [],
   "source": [
    "business_checkin.head()"
   ]
  },
  {
   "cell_type": "markdown",
   "metadata": {},
   "source": [
    "#### Lets add all the 'checkin_info' from the business_checkin data frame as features into the above model"
   ]
  },
  {
   "cell_type": "code",
   "execution_count": null,
   "metadata": {
    "collapsed": false
   },
   "outputs": [],
   "source": [
    "numeric_col_names = ['latitude', 'longitude','attributes.Price Range']\n",
    "other_col_prefix = ['Ambience','Good For','Music', 'Parking', 'Dietary Restrictions', 'Hair', 'computed.category.', 'checkin_info']\n",
    "y_col_name = 'stars'\n",
    "lr = LinearRegression()\n",
    "eval_res = eval_score(lr, 'LinearRegression', business_checkin, numeric_col_names, other_col_prefix, y_col_name)"
   ]
  },
  {
   "cell_type": "markdown",
   "metadata": {},
   "source": [
    "#### Lets also evaluate the model scores when we train the gradient boosting configuration from previous examples that gave us better scores than other models"
   ]
  },
  {
   "cell_type": "code",
   "execution_count": null,
   "metadata": {
    "collapsed": false,
    "scrolled": true
   },
   "outputs": [],
   "source": []
  },
  {
   "cell_type": "markdown",
   "metadata": {},
   "source": [
    "#### So far the R2 score of 0.25196846789989025 is the best we have for predicting a business's star rating using its meta data, and check in info. "
   ]
  },
  {
   "cell_type": "code",
   "execution_count": null,
   "metadata": {
    "collapsed": false
   },
   "outputs": [],
   "source": [
    "eval_res['X_train_index']"
   ]
  },
  {
   "cell_type": "markdown",
   "metadata": {},
   "source": [
    "#### Now lets change our problem definition slightly, to see if this problem can be solved as a classification problem. \n",
    "#### Lets try to predict now whether a business has a 'Good Score' or 'Bad Score' based on its meta data and check in info or not \n",
    "#### We define a 'Good Score' for business to be any rating >= average (computed over the training set)"
   ]
  },
  {
   "cell_type": "code",
   "execution_count": null,
   "metadata": {
    "collapsed": false
   },
   "outputs": [],
   "source": [
    "mean_star_rating = eval_res['y_train'].mean()"
   ]
  },
  {
   "cell_type": "code",
   "execution_count": null,
   "metadata": {
    "collapsed": false
   },
   "outputs": [],
   "source": [
    "mean_star_rating"
   ]
  },
  {
   "cell_type": "code",
   "execution_count": null,
   "metadata": {
    "collapsed": false
   },
   "outputs": [],
   "source": [
    "business_checkin['good_score'] = business_checkin['stars'].apply(lambda x: x >= mean_star_rating)"
   ]
  },
  {
   "cell_type": "markdown",
   "metadata": {},
   "source": [
    "#### Lets train a logistic regression model on this, and create a classification model using only business meta data as its features (i.e not including checkin info)"
   ]
  },
  {
   "cell_type": "code",
   "execution_count": null,
   "metadata": {
    "collapsed": false
   },
   "outputs": [],
   "source": [
    "numeric_col_names = ['latitude', 'longitude','attributes.Price Range']\n",
    "other_col_prefix = ['Ambience','Good For','Music', 'Parking', 'Dietary Restrictions', 'Hair', 'computed.category.']\n",
    "y_col_name = 'good_score'\n",
    "lr = LogisticRegression()\n",
    "eval_res = eval_score(lr, 'LogisticRegression', business_checkin, numeric_col_names, other_col_prefix, y_col_name)"
   ]
  },
  {
   "cell_type": "markdown",
   "metadata": {},
   "source": [
    "#### The scores above are high, but can be mis-leading, lets compute the precision recall curves "
   ]
  },
  {
   "cell_type": "code",
   "execution_count": null,
   "metadata": {
    "collapsed": false
   },
   "outputs": [],
   "source": [
    "%matplotlib inline \n",
    "def plot_precision_recall(model, X_test, y_test):\n",
    "    y_score = model.decision_function(X_test)\n",
    "    precision, recall, threshold = precision_recall_curve(y_test,y_score)\n",
    "    average_precision = average_precision_score(y_test, y_score)\n",
    "    plt.clf()\n",
    "    plt.plot(recall, precision, label='Precision-Recall curve')\n",
    "    plt.xlabel('Recall')\n",
    "    plt.ylabel('Precision')\n",
    "    plt.ylim([0.0, 1.05])\n",
    "    plt.xlim([0.0, 1.0])\n",
    "    plt.title('Precision-Recall example: AUC={0:0.2f}'.format(average_precision))\n",
    "    plt.legend(loc=\"lower left\")\n",
    "    plt.show()\n",
    "    return pd.DataFrame({'precision':precision[1:], 'recall':recall[1:], 'threshold':threshold})\n",
    "precision_recall_threshold = plot_precision_recall(lr, eval_res['X_test'], eval_res['y_test'])    "
   ]
  },
  {
   "cell_type": "markdown",
   "metadata": {},
   "source": [
    "#### An AUC of 0.74 as above, indicates that the model fits the data reasonably well, by choosing appropriate threshold for predicton we can achieve the desired precision, as well as recall"
   ]
  },
  {
   "cell_type": "markdown",
   "metadata": {},
   "source": [
    "#### Any of the threshold values from above table will yeild a precision and recall > 0.68"
   ]
  },
  {
   "cell_type": "code",
   "execution_count": null,
   "metadata": {
    "collapsed": false,
    "scrolled": true
   },
   "outputs": [],
   "source": [
    "precision_recall_threshold.query ('precision > 0.68 and recall > 0.68').head()"
   ]
  },
  {
   "cell_type": "code",
   "execution_count": null,
   "metadata": {
    "collapsed": false
   },
   "outputs": [],
   "source": [
    "numeric_col_names = ['latitude', 'longitude','attributes.Price Range']\n",
    "other_col_prefix = ['Ambience','Good For','Music', 'Parking', 'Dietary Restrictions', 'Hair', 'computed.category.','checkin_info']\n",
    "y_col_name = 'good_score'\n",
    "lr = LogisticRegression()\n",
    "eval_res = eval_score(lr, 'LogisticRegression', business_checkin, numeric_col_names, other_col_prefix, y_col_name)"
   ]
  },
  {
   "cell_type": "code",
   "execution_count": null,
   "metadata": {
    "collapsed": false
   },
   "outputs": [],
   "source": [
    "precision_recall_threshold = plot_precision_recall(lr, eval_res['X_test'], eval_res['y_test'])  "
   ]
  },
  {
   "cell_type": "markdown",
   "metadata": {},
   "source": []
  },
  {
   "cell_type": "code",
   "execution_count": null,
   "metadata": {
    "collapsed": false,
    "scrolled": true
   },
   "outputs": [],
   "source": [
    "gbr = GradientBoostingClassifier(n_estimators=100, max_depth = 8,  verbose=10)\n",
    "eval_res = eval_score(gbr, 'Gradient Boosting Classifier', business_checkin, numeric_col_names, other_col_prefix, y_col_name)"
   ]
  },
  {
   "cell_type": "code",
   "execution_count": null,
   "metadata": {
    "collapsed": false
   },
   "outputs": [],
   "source": [
    "precision_recall_threshold = plot_precision_recall(gbr, eval_res['X_test'], eval_res['y_test'])  "
   ]
  },
  {
   "cell_type": "code",
   "execution_count": null,
   "metadata": {
    "collapsed": false
   },
   "outputs": [],
   "source": [
    "precision_recall_threshold.query ('precision > 0.68 and recall > 0.68').head()"
   ]
  },
  {
   "cell_type": "markdown",
   "metadata": {},
   "source": [
    "#### Computing Gradient boosted model for regression with a depth of 300\n",
    "#### This takes a long time to generate, hence computing this at the end"
   ]
  },
  {
   "cell_type": "code",
   "execution_count": null,
   "metadata": {
    "collapsed": true
   },
   "outputs": [],
   "source": [
    "numeric_col_names = ['latitude', 'longitude','attributes.Price Range']\n",
    "other_col_prefix = ['Ambience','Good For','Music', 'Parking', 'Dietary Restrictions', 'Hair', 'computed.category.', 'checkin_info']\n",
    "y_col_name = 'stars'\n",
    "lr = LinearRegression()\n",
    "eval_res = eval_score(lr, 'LinearRegression', business_checkin, numeric_col_names, other_col_prefix, y_col_name)\n",
    "gbr = GradientBoostingRegressor(n_estimators=300, max_depth = 8,  verbose=10)\n",
    "eval_res = eval_score(gbr, 'Gradient Boosting', business_checkin, numeric_col_names, other_col_prefix, y_col_name)"
   ]
  }
 ],
 "metadata": {
  "kernelspec": {
   "display_name": "Python 3",
   "language": "python",
   "name": "python3"
  },
  "language_info": {
   "codemirror_mode": {
    "name": "ipython",
    "version": 3
   },
   "file_extension": ".py",
   "mimetype": "text/x-python",
   "name": "python",
   "nbconvert_exporter": "python",
   "pygments_lexer": "ipython3",
   "version": "3.5.2"
  }
 },
 "nbformat": 4,
 "nbformat_minor": 0
}
