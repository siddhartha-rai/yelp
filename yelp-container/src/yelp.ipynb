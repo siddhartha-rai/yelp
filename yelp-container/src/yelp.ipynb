{
 "cells": [
  {
   "cell_type": "code",
   "execution_count": 1,
   "metadata": {
    "collapsed": true
   },
   "outputs": [],
   "source": [
    "import pandas as pd \n",
    "import numpy as np \n",
    "import datetime \n",
    "import matplotlib.pyplot as plt\n",
    "import copy\n",
    "from sklearn.linear_model import LinearRegression\n",
    "from sklearn.linear_model import LogisticRegression\n",
    "from sklearn.ensemble import RandomForestRegressor\n",
    "from sklearn.ensemble import GradientBoostingRegressor\n",
    "from sklearn.ensemble import GradientBoostingClassifier\n",
    "from sklearn.cross_validation import train_test_split\n",
    "from sklearn.metrics import precision_recall_curve\n",
    "from sklearn.metrics import average_precision_score\n",
    "from sklearn import svm, grid_search, datasets"
   ]
  },
  {
   "cell_type": "code",
   "execution_count": 2,
   "metadata": {
    "collapsed": false
   },
   "outputs": [
    {
     "name": "stderr",
     "output_type": "stream",
     "text": [
      "/Users/srai/anaconda/lib/python3.5/site-packages/IPython/core/interactiveshell.py:2723: DtypeWarning: Columns (1,4,7,17,26,29,49,60,62,79,86,94) have mixed types. Specify dtype option on import or set low_memory=False.\n",
      "  interactivity=interactivity, compiler=compiler, result=result)\n"
     ]
    }
   ],
   "source": [
    "business = pd.read_csv('business.csv')"
   ]
  },
  {
   "cell_type": "code",
   "execution_count": 3,
   "metadata": {
    "collapsed": false
   },
   "outputs": [
    {
     "data": {
      "text/plain": [
       "(85901, 98)"
      ]
     },
     "execution_count": 3,
     "metadata": {},
     "output_type": "execute_result"
    }
   ],
   "source": [
    "business.shape"
   ]
  },
  {
   "cell_type": "code",
   "execution_count": 4,
   "metadata": {
    "collapsed": false,
    "scrolled": true
   },
   "outputs": [
    {
     "data": {
      "text/plain": [
       "Index(['attributes.Ambience.divey', 'attributes.Dietary Restrictions.vegan',\n",
       "       'attributes.Happy Hour', 'hours.Thursday.open',\n",
       "       'attributes.Order at Counter',\n",
       "       'attributes.Hair Types Specialized In.africanamerican',\n",
       "       'attributes.Hair Types Specialized In.kids', 'attributes.BYOB',\n",
       "       'hours.Friday.open', 'attributes.Good For.latenight',\n",
       "       'attributes.Outdoor Seating', 'attributes.Alcohol',\n",
       "       'attributes.Ambience.classy', 'attributes.By Appointment Only',\n",
       "       'attributes.Parking.lot', 'business_id', 'attributes.Ambience.touristy',\n",
       "       'attributes.Corkage', 'hours.Tuesday.open',\n",
       "       'attributes.Good For.brunch', 'categories', 'attributes.Waiter Service',\n",
       "       'hours.Monday.open', 'name', 'attributes.Parking.street',\n",
       "       'attributes.Ambience.hipster', 'attributes.BYOB/Corkage',\n",
       "       'attributes.Hair Types Specialized In.straightperms',\n",
       "       'attributes.Music.live', 'attributes.Dietary Restrictions.dairy-free',\n",
       "       'attributes.Music.background_music', 'attributes.Price Range',\n",
       "       'attributes.Good For.breakfast', 'attributes.Parking.garage',\n",
       "       'attributes.Music.karaoke', 'attributes.Good For Dancing',\n",
       "       'review_count', 'attributes.Hair Types Specialized In.asian', 'state',\n",
       "       'attributes.Accepts Credit Cards', 'hours.Friday.close',\n",
       "       'attributes.Good For.lunch', 'attributes.Parking.valet',\n",
       "       'attributes.Take-out', 'full_address', 'hours.Thursday.close',\n",
       "       'attributes.Hair Types Specialized In.coloring',\n",
       "       'attributes.Good For.dessert', 'attributes.Music.video',\n",
       "       'attributes.Dietary Restrictions.halal',\n",
       "       'attributes.Takes Reservations', 'hours.Saturday.open',\n",
       "       'attributes.Ages Allowed', 'attributes.Ambience.trendy',\n",
       "       'attributes.Delivery', 'hours.Wednesday.close', 'attributes.Wi-Fi',\n",
       "       'open', 'city', 'attributes.Wheelchair Accessible',\n",
       "       'attributes.Dietary Restrictions.gluten-free', 'stars',\n",
       "       'attributes.Dietary Restrictions.kosher', 'type', 'attributes.Caters',\n",
       "       'attributes.Ambience.intimate', 'latitude',\n",
       "       'attributes.Good For.dinner', 'attributes.Coat Check', 'longitude',\n",
       "       'hours.Monday.close', 'attributes.Hair Types Specialized In.extensions',\n",
       "       'hours.Tuesday.close', 'hours.Saturday.close',\n",
       "       'attributes.Good for Kids', 'attributes.Parking.validated',\n",
       "       'hours.Sunday.open', 'attributes.Accepts Insurance',\n",
       "       'attributes.Music.dj', 'attributes.Dietary Restrictions.soy-free',\n",
       "       'attributes.Has TV', 'hours.Sunday.close', 'attributes.Ambience.casual',\n",
       "       'attributes.Hair Types Specialized In.perms', 'attributes.Dogs Allowed',\n",
       "       'attributes.Drive-Thru', 'attributes.Dietary Restrictions.vegetarian',\n",
       "       'hours.Wednesday.open', 'attributes.Noise Level', 'attributes.Smoking',\n",
       "       'attributes.Attire', 'attributes.Hair Types Specialized In.curly',\n",
       "       'attributes.Good For Groups', 'neighborhoods',\n",
       "       'attributes.Open 24 Hours', 'attributes.Ambience.romantic',\n",
       "       'attributes.Music.jukebox', 'attributes.Ambience.upscale'],\n",
       "      dtype='object')"
      ]
     },
     "execution_count": 4,
     "metadata": {},
     "output_type": "execute_result"
    }
   ],
   "source": [
    "business.columns"
   ]
  },
  {
   "cell_type": "code",
   "execution_count": 5,
   "metadata": {
    "collapsed": false
   },
   "outputs": [
    {
     "data": {
      "text/html": [
       "<div>\n",
       "<table border=\"1\" class=\"dataframe\">\n",
       "  <thead>\n",
       "    <tr style=\"text-align: right;\">\n",
       "      <th></th>\n",
       "      <th>attributes.Ambience.divey</th>\n",
       "      <th>attributes.Dietary Restrictions.vegan</th>\n",
       "      <th>attributes.Happy Hour</th>\n",
       "      <th>hours.Thursday.open</th>\n",
       "      <th>attributes.Order at Counter</th>\n",
       "      <th>attributes.Hair Types Specialized In.africanamerican</th>\n",
       "      <th>attributes.Hair Types Specialized In.kids</th>\n",
       "      <th>attributes.BYOB</th>\n",
       "      <th>hours.Friday.open</th>\n",
       "      <th>attributes.Good For.latenight</th>\n",
       "      <th>...</th>\n",
       "      <th>attributes.Noise Level</th>\n",
       "      <th>attributes.Smoking</th>\n",
       "      <th>attributes.Attire</th>\n",
       "      <th>attributes.Hair Types Specialized In.curly</th>\n",
       "      <th>attributes.Good For Groups</th>\n",
       "      <th>neighborhoods</th>\n",
       "      <th>attributes.Open 24 Hours</th>\n",
       "      <th>attributes.Ambience.romantic</th>\n",
       "      <th>attributes.Music.jukebox</th>\n",
       "      <th>attributes.Ambience.upscale</th>\n",
       "    </tr>\n",
       "  </thead>\n",
       "  <tbody>\n",
       "    <tr>\n",
       "      <th>0</th>\n",
       "      <td>False</td>\n",
       "      <td>NaN</td>\n",
       "      <td>NaN</td>\n",
       "      <td>11:00</td>\n",
       "      <td>NaN</td>\n",
       "      <td>NaN</td>\n",
       "      <td>NaN</td>\n",
       "      <td>NaN</td>\n",
       "      <td>11:00</td>\n",
       "      <td>False</td>\n",
       "      <td>...</td>\n",
       "      <td>average</td>\n",
       "      <td>NaN</td>\n",
       "      <td>casual</td>\n",
       "      <td>NaN</td>\n",
       "      <td>True</td>\n",
       "      <td>[]</td>\n",
       "      <td>NaN</td>\n",
       "      <td>False</td>\n",
       "      <td>NaN</td>\n",
       "      <td>False</td>\n",
       "    </tr>\n",
       "    <tr>\n",
       "      <th>1</th>\n",
       "      <td>NaN</td>\n",
       "      <td>NaN</td>\n",
       "      <td>True</td>\n",
       "      <td>NaN</td>\n",
       "      <td>NaN</td>\n",
       "      <td>NaN</td>\n",
       "      <td>NaN</td>\n",
       "      <td>NaN</td>\n",
       "      <td>NaN</td>\n",
       "      <td>NaN</td>\n",
       "      <td>...</td>\n",
       "      <td>NaN</td>\n",
       "      <td>NaN</td>\n",
       "      <td>NaN</td>\n",
       "      <td>NaN</td>\n",
       "      <td>True</td>\n",
       "      <td>[]</td>\n",
       "      <td>NaN</td>\n",
       "      <td>NaN</td>\n",
       "      <td>NaN</td>\n",
       "      <td>NaN</td>\n",
       "    </tr>\n",
       "    <tr>\n",
       "      <th>2</th>\n",
       "      <td>NaN</td>\n",
       "      <td>NaN</td>\n",
       "      <td>NaN</td>\n",
       "      <td>NaN</td>\n",
       "      <td>NaN</td>\n",
       "      <td>NaN</td>\n",
       "      <td>NaN</td>\n",
       "      <td>NaN</td>\n",
       "      <td>NaN</td>\n",
       "      <td>NaN</td>\n",
       "      <td>...</td>\n",
       "      <td>NaN</td>\n",
       "      <td>NaN</td>\n",
       "      <td>NaN</td>\n",
       "      <td>NaN</td>\n",
       "      <td>NaN</td>\n",
       "      <td>[]</td>\n",
       "      <td>NaN</td>\n",
       "      <td>NaN</td>\n",
       "      <td>NaN</td>\n",
       "      <td>NaN</td>\n",
       "    </tr>\n",
       "    <tr>\n",
       "      <th>3</th>\n",
       "      <td>True</td>\n",
       "      <td>NaN</td>\n",
       "      <td>False</td>\n",
       "      <td>10:00</td>\n",
       "      <td>NaN</td>\n",
       "      <td>NaN</td>\n",
       "      <td>NaN</td>\n",
       "      <td>NaN</td>\n",
       "      <td>10:00</td>\n",
       "      <td>False</td>\n",
       "      <td>...</td>\n",
       "      <td>average</td>\n",
       "      <td>no</td>\n",
       "      <td>casual</td>\n",
       "      <td>NaN</td>\n",
       "      <td>True</td>\n",
       "      <td>[]</td>\n",
       "      <td>NaN</td>\n",
       "      <td>False</td>\n",
       "      <td>NaN</td>\n",
       "      <td>False</td>\n",
       "    </tr>\n",
       "    <tr>\n",
       "      <th>4</th>\n",
       "      <td>NaN</td>\n",
       "      <td>NaN</td>\n",
       "      <td>NaN</td>\n",
       "      <td>11:00</td>\n",
       "      <td>NaN</td>\n",
       "      <td>NaN</td>\n",
       "      <td>NaN</td>\n",
       "      <td>NaN</td>\n",
       "      <td>11:00</td>\n",
       "      <td>NaN</td>\n",
       "      <td>...</td>\n",
       "      <td>NaN</td>\n",
       "      <td>NaN</td>\n",
       "      <td>NaN</td>\n",
       "      <td>NaN</td>\n",
       "      <td>True</td>\n",
       "      <td>[]</td>\n",
       "      <td>NaN</td>\n",
       "      <td>NaN</td>\n",
       "      <td>NaN</td>\n",
       "      <td>NaN</td>\n",
       "    </tr>\n",
       "  </tbody>\n",
       "</table>\n",
       "<p>5 rows × 98 columns</p>\n",
       "</div>"
      ],
      "text/plain": [
       "  attributes.Ambience.divey attributes.Dietary Restrictions.vegan  \\\n",
       "0                     False                                   NaN   \n",
       "1                       NaN                                   NaN   \n",
       "2                       NaN                                   NaN   \n",
       "3                      True                                   NaN   \n",
       "4                       NaN                                   NaN   \n",
       "\n",
       "  attributes.Happy Hour hours.Thursday.open attributes.Order at Counter  \\\n",
       "0                   NaN               11:00                         NaN   \n",
       "1                  True                 NaN                         NaN   \n",
       "2                   NaN                 NaN                         NaN   \n",
       "3                 False               10:00                         NaN   \n",
       "4                   NaN               11:00                         NaN   \n",
       "\n",
       "  attributes.Hair Types Specialized In.africanamerican  \\\n",
       "0                                                NaN     \n",
       "1                                                NaN     \n",
       "2                                                NaN     \n",
       "3                                                NaN     \n",
       "4                                                NaN     \n",
       "\n",
       "  attributes.Hair Types Specialized In.kids attributes.BYOB hours.Friday.open  \\\n",
       "0                                       NaN             NaN             11:00   \n",
       "1                                       NaN             NaN               NaN   \n",
       "2                                       NaN             NaN               NaN   \n",
       "3                                       NaN             NaN             10:00   \n",
       "4                                       NaN             NaN             11:00   \n",
       "\n",
       "  attributes.Good For.latenight             ...              \\\n",
       "0                         False             ...               \n",
       "1                           NaN             ...               \n",
       "2                           NaN             ...               \n",
       "3                         False             ...               \n",
       "4                           NaN             ...               \n",
       "\n",
       "  attributes.Noise Level attributes.Smoking attributes.Attire  \\\n",
       "0                average                NaN            casual   \n",
       "1                    NaN                NaN               NaN   \n",
       "2                    NaN                NaN               NaN   \n",
       "3                average                 no            casual   \n",
       "4                    NaN                NaN               NaN   \n",
       "\n",
       "  attributes.Hair Types Specialized In.curly attributes.Good For Groups  \\\n",
       "0                                        NaN                       True   \n",
       "1                                        NaN                       True   \n",
       "2                                        NaN                        NaN   \n",
       "3                                        NaN                       True   \n",
       "4                                        NaN                       True   \n",
       "\n",
       "  neighborhoods attributes.Open 24 Hours attributes.Ambience.romantic  \\\n",
       "0            []                      NaN                        False   \n",
       "1            []                      NaN                          NaN   \n",
       "2            []                      NaN                          NaN   \n",
       "3            []                      NaN                        False   \n",
       "4            []                      NaN                          NaN   \n",
       "\n",
       "  attributes.Music.jukebox attributes.Ambience.upscale  \n",
       "0                      NaN                       False  \n",
       "1                      NaN                         NaN  \n",
       "2                      NaN                         NaN  \n",
       "3                      NaN                       False  \n",
       "4                      NaN                         NaN  \n",
       "\n",
       "[5 rows x 98 columns]"
      ]
     },
     "execution_count": 5,
     "metadata": {},
     "output_type": "execute_result"
    }
   ],
   "source": [
    "business.head()"
   ]
  },
  {
   "cell_type": "markdown",
   "metadata": {},
   "source": [
    "#### To start with lets do some sanity checks on some of the attributes to confirm that there are sufficient dtaa points"
   ]
  },
  {
   "cell_type": "code",
   "execution_count": 6,
   "metadata": {
    "collapsed": false
   },
   "outputs": [
    {
     "data": {
      "text/plain": [
       "count    85901.000000\n",
       "mean        37.034786\n",
       "std          5.389208\n",
       "min         32.865882\n",
       "25%         33.506767\n",
       "50%         35.314392\n",
       "75%         36.203094\n",
       "max         56.033777\n",
       "Name: latitude, dtype: float64"
      ]
     },
     "execution_count": 6,
     "metadata": {},
     "output_type": "execute_result"
    }
   ],
   "source": [
    "business['latitude'].describe()"
   ]
  },
  {
   "cell_type": "code",
   "execution_count": 7,
   "metadata": {
    "collapsed": false
   },
   "outputs": [
    {
     "data": {
      "text/plain": [
       "count    85901.000000\n",
       "mean       -99.107318\n",
       "std         27.437773\n",
       "min       -115.386550\n",
       "25%       -115.062628\n",
       "50%       -111.943739\n",
       "75%        -80.951101\n",
       "max          8.549249\n",
       "Name: longitude, dtype: float64"
      ]
     },
     "execution_count": 7,
     "metadata": {},
     "output_type": "execute_result"
    }
   ],
   "source": [
    "business['longitude'].describe()"
   ]
  },
  {
   "cell_type": "code",
   "execution_count": 8,
   "metadata": {
    "collapsed": false
   },
   "outputs": [
    {
     "data": {
      "text/plain": [
       "count     27794\n",
       "unique        2\n",
       "top        True\n",
       "freq      24790\n",
       "Name: attributes.Good For Groups, dtype: object"
      ]
     },
     "execution_count": 8,
     "metadata": {},
     "output_type": "execute_result"
    }
   ],
   "source": [
    "business['attributes.Good For Groups'].describe()"
   ]
  },
  {
   "cell_type": "markdown",
   "metadata": {},
   "source": [
    "#### Sanity checks above reveal that some attributes like latitude, and longitude are available for all members of the data set, and other attributes such as 'attributes.Good For Groups' are available for almost a third of the dataset.  We are not including the sanity checks for other attributes in this notebook. In our modeling exercise, it may be good to ignore some attributes which are very sparse such as 'attributes.Dietary Restrictions.vegan'. However in this notebook we have not yet implemented the ability to exclude some attributes based on certain criteria."
   ]
  },
  {
   "cell_type": "markdown",
   "metadata": {},
   "source": [
    "## Lets take a simple problem \n",
    "#### Can we predict the star rating of a business based on some very simple business attributes such as location . The motivation behind this is that, often we will find examples where a business has not been rated by users, (for example new business). In cases like this it will be useful if we can predict a star rating based on some basic atributes of the business."
   ]
  },
  {
   "cell_type": "code",
   "execution_count": 9,
   "metadata": {
    "collapsed": false
   },
   "outputs": [],
   "source": [
    "X = business\n",
    "y = business['stars']\n",
    "X_train_index,X_test_index,y_train,y_test = train_test_split(X.index,y,test_size=0.2, random_state = 1)"
   ]
  },
  {
   "cell_type": "code",
   "execution_count": 10,
   "metadata": {
    "collapsed": false,
    "scrolled": true
   },
   "outputs": [],
   "source": [
    "numeric_columns = ['latitude', 'longitude']"
   ]
  },
  {
   "cell_type": "code",
   "execution_count": 11,
   "metadata": {
    "collapsed": false
   },
   "outputs": [],
   "source": [
    "X_train = X.iloc[X_train_index].as_matrix(numeric_columns)\n",
    "X_test = X.iloc[X_test_index].as_matrix(numeric_columns)"
   ]
  },
  {
   "cell_type": "code",
   "execution_count": 12,
   "metadata": {
    "collapsed": true
   },
   "outputs": [],
   "source": [
    "import sklearn.linear_model\n",
    "lr = sklearn.linear_model.LinearRegression()\n",
    "model_lr = lr.fit(X_train, y_train)"
   ]
  },
  {
   "cell_type": "code",
   "execution_count": 13,
   "metadata": {
    "collapsed": false
   },
   "outputs": [
    {
     "data": {
      "text/plain": [
       "0.00033301485390291319"
      ]
     },
     "execution_count": 13,
     "metadata": {},
     "output_type": "execute_result"
    }
   ],
   "source": [
    "model_lr.score(X_train, y_train)"
   ]
  },
  {
   "cell_type": "code",
   "execution_count": 14,
   "metadata": {
    "collapsed": false
   },
   "outputs": [
    {
     "data": {
      "text/plain": [
       "0.00022648665467461804"
      ]
     },
     "execution_count": 14,
     "metadata": {},
     "output_type": "execute_result"
    }
   ],
   "source": [
    "model_lr.score(X_test, y_test)"
   ]
  },
  {
   "cell_type": "markdown",
   "metadata": {},
   "source": [
    "#### Above scores suggest that Linear Regression model does not fit the data well, in fact it underfits. The training score is low, and the testing score is also low"
   ]
  },
  {
   "cell_type": "markdown",
   "metadata": {},
   "source": [
    "#### Lets now add some non-numeric features to the model and see if the score improves. For doing this we need to identify non-numeric features which we beleive based on understanding of the problem will improve the prediction. As an example lets add all attributes of the business which provide information about the ambience, and also its price range. These attributes together with location might be good predictors for the star rating"
   ]
  },
  {
   "cell_type": "code",
   "execution_count": 15,
   "metadata": {
    "collapsed": false
   },
   "outputs": [
    {
     "name": "stdout",
     "output_type": "stream",
     "text": [
      "Train Score =  0.0141083917798\n",
      "Test Score =  0.0139446515319\n"
     ]
    }
   ],
   "source": [
    "non_numeric_columns_ambience = [k for k in business.columns if 'Ambience' in k]\n",
    "feature_columns = ['latitude', 'longitude','attributes.Price Range']\n",
    "feature_columns.extend(non_numeric_columns_ambience)\n",
    "X = business\n",
    "y = business['stars']\n",
    "X_train_index,X_test_index,y_train,y_test = train_test_split(X.index,y,test_size=0.2, random_state = 1)\n",
    "X_train = X.iloc[X_train_index].fillna(-1).as_matrix(feature_columns)\n",
    "X_test = X.iloc[X_test_index].fillna(-1).as_matrix(feature_columns)\n",
    "lr = sklearn.linear_model.LinearRegression()\n",
    "model_lr = lr.fit(X_train, y_train)\n",
    "print(\"Train Score = \", model_lr.score(X_train, y_train))\n",
    "print(\"Test Score = \", model_lr.score(X_test, y_test))"
   ]
  },
  {
   "cell_type": "markdown",
   "metadata": {},
   "source": [
    "####  Above attributes improve our R2 score very slightly for predicting the review count of a business based on its meta data attributes. Lets formalize this approach a bit, so that we can apply this more easily to other examples, and continue our search for better models to improve our scores"
   ]
  },
  {
   "cell_type": "code",
   "execution_count": 16,
   "metadata": {
    "collapsed": true
   },
   "outputs": [],
   "source": [
    "def get_columns_from_prefix(biz_df, prefix):\n",
    "    return [col for col in biz_df.columns if prefix in col]\n",
    "def eval_score(model, model_name, biz_df, numeric_col, other_col_prefix, y_col_name):\n",
    "    X = biz_df\n",
    "    y = biz_df[y_col_name]\n",
    "    feature_columns = copy.copy(numeric_col)\n",
    "    for col_prefix in other_col_prefix:\n",
    "        feature_columns.extend(get_columns_from_prefix(biz_df, col_prefix))\n",
    "    X_train_index,X_test_index,y_train,y_test = train_test_split(X.index,y,test_size=0.2, random_state = 1)    \n",
    "    X_train = X.iloc[X_train_index].fillna(0).as_matrix(feature_columns)\n",
    "    X_test = X.iloc[X_test_index].fillna(0).as_matrix(feature_columns)\n",
    "    model = model.fit(X_train, y_train)\n",
    "    train_score = model.score(X_train, y_train)\n",
    "    test_score = model.score(X_test, y_test)\n",
    "    print('Model Name : {0}, Train Score = {1}, Test Score = {2}, Train Set size = {3}'.format(model_name, train_score,test_score,X_train.shape))\n",
    "    return {\n",
    "        'X_train':X_train,\n",
    "        'X_test':X_test,\n",
    "        'y_train':y_train,\n",
    "        'y_test':y_test,\n",
    "        'model':model,\n",
    "        'train_score':train_score,\n",
    "        'test_score':test_score}"
   ]
  },
  {
   "cell_type": "markdown",
   "metadata": {},
   "source": [
    "#### Lets run the same example from before with above functions to confirm results produced are identical"
   ]
  },
  {
   "cell_type": "code",
   "execution_count": 17,
   "metadata": {
    "collapsed": false
   },
   "outputs": [
    {
     "name": "stdout",
     "output_type": "stream",
     "text": [
      "Model Name : LinearRegression, Train Score = 0.006101224860929788, Test Score = 0.006819635864603879, Train Set size = (68720, 12)\n"
     ]
    }
   ],
   "source": [
    "numeric_col_names = ['latitude', 'longitude','attributes.Price Range']\n",
    "other_col_prefix = ['Ambience']\n",
    "y_col_name = 'stars'\n",
    "model = sklearn.linear_model.LinearRegression()\n",
    "eval_res = eval_score(model, 'LinearRegression', business, numeric_col_names, other_col_prefix, y_col_name)"
   ]
  },
  {
   "cell_type": "markdown",
   "metadata": {},
   "source": [
    "#### Evaluation results are identical to previous run. Now lets add more features, and evaluate if it improves the model scores"
   ]
  },
  {
   "cell_type": "code",
   "execution_count": 18,
   "metadata": {
    "collapsed": false
   },
   "outputs": [
    {
     "name": "stdout",
     "output_type": "stream",
     "text": [
      "Model Name : LinearRegression, Train Score = 0.03681422607497675, Test Score = 0.037212404973611224, Train Set size = (68720, 46)\n"
     ]
    }
   ],
   "source": [
    "numeric_col_names = ['latitude', 'longitude','attributes.Price Range']\n",
    "other_col_prefix = ['Ambience','Good For','Music', 'Parking', 'Dietary Restrictions', 'Hair']\n",
    "y_col_name = 'stars'\n",
    "model = sklearn.linear_model.LinearRegression()\n",
    "eval_res = eval_score(model,'LinearRegression', business, numeric_col_names, other_col_prefix, y_col_name)"
   ]
  },
  {
   "cell_type": "markdown",
   "metadata": {},
   "source": [
    "#### Addition of more features improved the R2 score on test data slightly. Notice that we have not yet considered the category information while computing these models. Lets try adding the category infomration as well. "
   ]
  },
  {
   "cell_type": "markdown",
   "metadata": {},
   "source": [
    "#### Lets add all information available from categores as boolean variables. For example if a business has 'Mexican' as a category, we will add a columns to our data frame that will be True when 'Mexican' is a category present in the 'categories' column for that business. To compute this we will need to know the set of all categories first "
   ]
  },
  {
   "cell_type": "code",
   "execution_count": 19,
   "metadata": {
    "collapsed": false
   },
   "outputs": [],
   "source": [
    "def add_categories(business):\n",
    "    all_categories = pd.unique([item for sublist in business['categories'].apply(eval) for item in sublist])\n",
    "    for cat in all_categories:\n",
    "        business['computed.category.' + str(cat)] = business['categories'].apply(lambda x: True if cat in x else False)\n",
    "    return business\n",
    "business = add_categories(business)"
   ]
  },
  {
   "cell_type": "markdown",
   "metadata": {},
   "source": [
    "#### Lets compute new models now that use these additional columns "
   ]
  },
  {
   "cell_type": "code",
   "execution_count": 20,
   "metadata": {
    "collapsed": false
   },
   "outputs": [
    {
     "name": "stdout",
     "output_type": "stream",
     "text": [
      "Model Name : LinearRegression, Train Score = 0.25138468773889755, Test Score = 0.22334746185294585, Train Set size = (68720, 1078)\n"
     ]
    }
   ],
   "source": [
    "numeric_col_names = ['latitude', 'longitude','attributes.Price Range']\n",
    "other_col_prefix = ['Ambience','Good For','Music', 'Parking', 'Dietary Restrictions', 'Hair', 'computed.category.']\n",
    "y_col_name = 'stars'\n",
    "lr = LinearRegression()\n",
    "eval_res = eval_score(lr,'LinearRegression', business, numeric_col_names, other_col_prefix, y_col_name)"
   ]
  },
  {
   "cell_type": "markdown",
   "metadata": {},
   "source": [
    "#### The train score is  slightly greater than the test score,indicating overfitting in this linear regression model. Lets see if building a model that can capture the non-linearity and interactiion effects amongst the features. RandomForest and GradientBoosting approaches are both capable of acheiving this. We expect both the train and test scores to imrove as a result of using these models.   These models  takes a few minutes to generate"
   ]
  },
  {
   "cell_type": "code",
   "execution_count": 21,
   "metadata": {
    "collapsed": false
   },
   "outputs": [
    {
     "name": "stderr",
     "output_type": "stream",
     "text": [
      "[Parallel(n_jobs=4)]: Done  42 tasks      | elapsed:   28.3s\n",
      "[Parallel(n_jobs=4)]: Done  50 out of  50 | elapsed:   32.4s finished\n",
      "[Parallel(n_jobs=4)]: Done  42 tasks      | elapsed:    0.0s\n",
      "[Parallel(n_jobs=4)]: Done  50 out of  50 | elapsed:    0.1s finished\n",
      "[Parallel(n_jobs=4)]: Done  42 tasks      | elapsed:    0.1s\n",
      "[Parallel(n_jobs=4)]: Done  50 out of  50 | elapsed:    0.1s finished\n"
     ]
    },
    {
     "name": "stdout",
     "output_type": "stream",
     "text": [
      "Model Name : Random Forest, Train Score = 0.10923561524009928, Test Score = 0.09753894643746186, Train Set size = (68720, 1078)\n"
     ]
    }
   ],
   "source": [
    "rf = RandomForestRegressor(n_estimators=50, max_depth = 6, verbose = 1,n_jobs = 4)\n",
    "eval_res = eval_score(rf,'Random Forest', business, numeric_col_names, other_col_prefix, y_col_name)"
   ]
  },
  {
   "cell_type": "markdown",
   "metadata": {},
   "source": [
    "#### The random forest model above has low score on both train data as well as test data. This suggests that the random forest as defined above is not able to fit the data in a manner comparable with Linear Regression. Lets us perform a grid serach using Cross Validation for best parameters. Please note this takes a few minutes to run. "
   ]
  },
  {
   "cell_type": "code",
   "execution_count": 22,
   "metadata": {
    "collapsed": false,
    "scrolled": true
   },
   "outputs": [
    {
     "name": "stderr",
     "output_type": "stream",
     "text": [
      "[Parallel(n_jobs=4)]: Done  42 tasks      | elapsed:  1.1min\n",
      "[Parallel(n_jobs=4)]: Done  50 out of  50 | elapsed:  1.3min finished\n",
      "[Parallel(n_jobs=4)]: Done  42 tasks      | elapsed:    0.1s\n",
      "[Parallel(n_jobs=4)]: Done  50 out of  50 | elapsed:    0.1s finished\n",
      "[Parallel(n_jobs=4)]: Done  42 tasks      | elapsed:  1.1min\n",
      "[Parallel(n_jobs=4)]: Done  50 out of  50 | elapsed:  1.3min finished\n",
      "[Parallel(n_jobs=4)]: Done  42 tasks      | elapsed:    0.1s\n",
      "[Parallel(n_jobs=4)]: Done  50 out of  50 | elapsed:    0.1s finished\n",
      "[Parallel(n_jobs=4)]: Done  42 tasks      | elapsed:  1.3min\n",
      "[Parallel(n_jobs=4)]: Done  50 out of  50 | elapsed:  1.5min finished\n",
      "[Parallel(n_jobs=4)]: Done  42 tasks      | elapsed:    0.1s\n",
      "[Parallel(n_jobs=4)]: Done  50 out of  50 | elapsed:    0.1s finished\n",
      "[Parallel(n_jobs=4)]: Done  42 tasks      | elapsed:   59.2s\n",
      "[Parallel(n_jobs=4)]: Done 100 out of 100 | elapsed:  2.3min finished\n",
      "[Parallel(n_jobs=4)]: Done  42 tasks      | elapsed:    0.1s\n",
      "[Parallel(n_jobs=4)]: Done 100 out of 100 | elapsed:    0.1s finished\n",
      "[Parallel(n_jobs=4)]: Done  42 tasks      | elapsed:   57.4s\n",
      "[Parallel(n_jobs=4)]: Done 100 out of 100 | elapsed:  2.2min finished\n",
      "[Parallel(n_jobs=4)]: Done  42 tasks      | elapsed:    0.1s\n",
      "[Parallel(n_jobs=4)]: Done 100 out of 100 | elapsed:    0.2s finished\n",
      "[Parallel(n_jobs=4)]: Done  42 tasks      | elapsed:   59.1s\n",
      "[Parallel(n_jobs=4)]: Done 100 out of 100 | elapsed:  2.2min finished\n",
      "[Parallel(n_jobs=4)]: Done  42 tasks      | elapsed:    0.1s\n",
      "[Parallel(n_jobs=4)]: Done 100 out of 100 | elapsed:    0.1s finished\n",
      "[Parallel(n_jobs=4)]: Done  42 tasks      | elapsed:  1.5min\n",
      "[Parallel(n_jobs=4)]: Done  50 out of  50 | elapsed:  1.7min finished\n",
      "[Parallel(n_jobs=4)]: Done  42 tasks      | elapsed:    0.1s\n",
      "[Parallel(n_jobs=4)]: Done  50 out of  50 | elapsed:    0.1s finished\n",
      "[Parallel(n_jobs=4)]: Done  42 tasks      | elapsed:  1.5min\n",
      "[Parallel(n_jobs=4)]: Done  50 out of  50 | elapsed:  1.7min finished\n",
      "[Parallel(n_jobs=4)]: Done  42 tasks      | elapsed:    0.1s\n",
      "[Parallel(n_jobs=4)]: Done  50 out of  50 | elapsed:    0.1s finished\n",
      "[Parallel(n_jobs=4)]: Done  42 tasks      | elapsed:  1.5min\n",
      "[Parallel(n_jobs=4)]: Done  50 out of  50 | elapsed:  1.7min finished\n",
      "[Parallel(n_jobs=4)]: Done  42 tasks      | elapsed:    0.1s\n",
      "[Parallel(n_jobs=4)]: Done  50 out of  50 | elapsed:    0.1s finished\n",
      "[Parallel(n_jobs=4)]: Done  42 tasks      | elapsed:  1.5min\n",
      "[Parallel(n_jobs=4)]: Done 100 out of 100 | elapsed:  3.5min finished\n",
      "[Parallel(n_jobs=4)]: Done  42 tasks      | elapsed:    0.1s\n",
      "[Parallel(n_jobs=4)]: Done 100 out of 100 | elapsed:    0.2s finished\n",
      "[Parallel(n_jobs=4)]: Done  42 tasks      | elapsed:  1.5min\n",
      "[Parallel(n_jobs=4)]: Done 100 out of 100 | elapsed:  3.5min finished\n",
      "[Parallel(n_jobs=4)]: Done  42 tasks      | elapsed:    0.1s\n",
      "[Parallel(n_jobs=4)]: Done 100 out of 100 | elapsed:    0.2s finished\n",
      "[Parallel(n_jobs=4)]: Done  42 tasks      | elapsed:  1.5min\n",
      "[Parallel(n_jobs=4)]: Done 100 out of 100 | elapsed:  3.4min finished\n",
      "[Parallel(n_jobs=4)]: Done  42 tasks      | elapsed:    0.1s\n",
      "[Parallel(n_jobs=4)]: Done 100 out of 100 | elapsed:    0.2s finished\n",
      "[Parallel(n_jobs=4)]: Done  42 tasks      | elapsed:   50.5s\n",
      "[Parallel(n_jobs=4)]: Done 100 out of 100 | elapsed:  1.9min finished\n",
      "[Parallel(n_jobs=4)]: Done  42 tasks      | elapsed:    0.1s\n",
      "[Parallel(n_jobs=4)]: Done 100 out of 100 | elapsed:    0.3s finished\n",
      "[Parallel(n_jobs=4)]: Done  42 tasks      | elapsed:    0.0s\n",
      "[Parallel(n_jobs=4)]: Done 100 out of 100 | elapsed:    0.1s finished\n"
     ]
    },
    {
     "name": "stdout",
     "output_type": "stream",
     "text": [
      "Model Name : Random Forest, Train Score = 0.2126454261829409, Test Score = 0.16968005758541294, Train Set size = (68720, 1078)\n"
     ]
    }
   ],
   "source": [
    "parameters = {'n_estimators':[50, 100], 'max_depth':[6, 12], 'verbose':[1],'n_jobs':[4]}\n",
    "rf = RandomForestRegressor()\n",
    "clf = grid_search.GridSearchCV(rf, parameters)\n",
    "eval_res = eval_score(clf,'Random Forest', business, numeric_col_names, other_col_prefix, y_col_name)"
   ]
  },
  {
   "cell_type": "markdown",
   "metadata": {},
   "source": [
    "#### The grid search based on Cross Validation above has yeilded the best results so far. Let us now explore if any other modeling techniques can help improve our sciore further. "
   ]
  },
  {
   "cell_type": "markdown",
   "metadata": {},
   "source": [
    "#### Lets explore now if gradient boosting regression, another advanced regression technique can improve the fit by improving the score on our training, as well as test set "
   ]
  },
  {
   "cell_type": "code",
   "execution_count": 23,
   "metadata": {
    "collapsed": false,
    "scrolled": true
   },
   "outputs": [
    {
     "name": "stdout",
     "output_type": "stream",
     "text": [
      "      Iter       Train Loss   Remaining Time \n",
      "         1           0.8674           10.69m\n",
      "         2           0.8455           10.61m\n",
      "         3           0.8274           10.52m\n",
      "         4           0.8098           10.53m\n",
      "         5           0.7953           10.51m\n",
      "         6           0.7836           10.38m\n",
      "         7           0.7720           10.01m\n",
      "         8           0.7618            9.72m\n",
      "         9           0.7525            9.71m\n",
      "        10           0.7443            9.70m\n",
      "        11           0.7374            9.63m\n",
      "        12           0.7307            9.67m\n",
      "        13           0.7211            9.85m\n",
      "        14           0.7149            9.58m\n",
      "        15           0.7093            9.32m\n",
      "        16           0.7056            8.97m\n",
      "        17           0.7000            8.90m\n",
      "        18           0.6953            8.69m\n",
      "        19           0.6918            8.39m\n",
      "        20           0.6875            8.31m\n",
      "        21           0.6831            8.07m\n",
      "        22           0.6795            7.91m\n",
      "        23           0.6772            7.71m\n",
      "        24           0.6748            7.48m\n",
      "        25           0.6719            7.28m\n",
      "        26           0.6689            7.09m\n",
      "        27           0.6671            6.93m\n",
      "        28           0.6647            6.74m\n",
      "        29           0.6631            6.58m\n",
      "        30           0.6601            6.42m\n",
      "        31           0.6574            6.26m\n",
      "        32           0.6523            6.42m\n",
      "        33           0.6506            6.25m\n",
      "        34           0.6488            6.10m\n",
      "        35           0.6465            5.94m\n",
      "        36           0.6449            5.80m\n",
      "        37           0.6424            5.67m\n",
      "        38           0.6413            5.53m\n",
      "        39           0.6394            5.39m\n",
      "        40           0.6376            5.26m\n",
      "        41           0.6361            5.14m\n",
      "        42           0.6346            5.02m\n",
      "        43           0.6331            4.90m\n",
      "        44           0.6300            4.87m\n",
      "        45           0.6285            4.75m\n",
      "        46           0.6275            4.62m\n",
      "        47           0.6265            4.51m\n",
      "        48           0.6241            4.40m\n",
      "        49           0.6227            4.30m\n",
      "        50           0.6214            4.19m\n",
      "        51           0.6203            4.08m\n",
      "        52           0.6185            3.99m\n",
      "        53           0.6170            3.89m\n",
      "        54           0.6161            3.78m\n",
      "        55           0.6141            3.70m\n",
      "        56           0.6130            3.60m\n",
      "        57           0.6122            3.50m\n",
      "        58           0.6114            3.39m\n",
      "        59           0.6096            3.33m\n",
      "        60           0.6085            3.23m\n",
      "        61           0.6080            3.13m\n",
      "        62           0.6057            3.06m\n",
      "        63           0.6047            2.97m\n",
      "        64           0.6037            2.88m\n",
      "        65           0.6030            2.79m\n",
      "        66           0.6014            2.69m\n",
      "        67           0.6007            2.60m\n",
      "        68           0.6000            2.51m\n",
      "        69           0.5991            2.42m\n",
      "        70           0.5981            2.34m\n",
      "        71           0.5968            2.25m\n",
      "        72           0.5960            2.16m\n",
      "        73           0.5954            2.08m\n",
      "        74           0.5942            1.99m\n",
      "        75           0.5931            1.92m\n",
      "        76           0.5923            1.84m\n",
      "        77           0.5916            1.76m\n",
      "        78           0.5909            1.68m\n",
      "        79           0.5883            1.62m\n",
      "        80           0.5870            1.54m\n",
      "        81           0.5865            1.46m\n",
      "        82           0.5850            1.38m\n",
      "        83           0.5843            1.30m\n",
      "        84           0.5837            1.22m\n",
      "        85           0.5827            1.14m\n",
      "        86           0.5823            1.06m\n",
      "        87           0.5815           58.92s\n",
      "        88           0.5809           54.19s\n",
      "        89           0.5803           49.53s\n",
      "        90           0.5794           44.93s\n",
      "        91           0.5783           40.32s\n",
      "        92           0.5777           35.73s\n",
      "        93           0.5774           31.17s\n",
      "        94           0.5768           26.64s\n",
      "        95           0.5753           22.31s\n",
      "        96           0.5747           17.80s\n",
      "        97           0.5739           13.37s\n",
      "        98           0.5734            8.90s\n",
      "        99           0.5730            4.44s\n",
      "       100           0.5720            0.00s\n",
      "Model Name : Gradient Boosting, Train Score = 0.36096833735760625, Test Score = 0.23630548964743936, Train Set size = (68720, 1078)\n"
     ]
    }
   ],
   "source": [
    "gbr = GradientBoostingRegressor(max_depth = 10,  verbose=10)\n",
    "eval_res = eval_score(gbr, 'Gradient Boosting',business, numeric_col_names, other_col_prefix, y_col_name)"
   ]
  },
  {
   "cell_type": "markdown",
   "metadata": {},
   "source": [
    "#### Above Gradient Boosting model improves both the training score as well as test score in comparision with the LinearRegression model. However there is a significant gap between the train and test scores. This indicates overfitting. We should therefore explore approaches that reduce the variance. One way to achieve this with Gradient Boosting and other ensamble methods is by reducing the tree depth,  and increasing the number of estimators. We evaluate one such aproach towards the end of this notebook, since it takes longer to run."
   ]
  },
  {
   "cell_type": "markdown",
   "metadata": {},
   "source": [
    "#### The best model for improving the scores on test data set so far, is the gradient boosted model with  individual trees in the ensamble grown to a depth of 10"
   ]
  },
  {
   "cell_type": "markdown",
   "metadata": {},
   "source": [
    "#### Lets try to bring in features into the model that also include user behavior to complement the business meta data \n",
    "#### Does the prediction of a business star rating improve if we know the number of checkins to the business on different days?"
   ]
  },
  {
   "cell_type": "markdown",
   "metadata": {},
   "source": [
    "#### Lets get the check in data "
   ]
  },
  {
   "cell_type": "code",
   "execution_count": 24,
   "metadata": {
    "collapsed": true
   },
   "outputs": [],
   "source": [
    "checkin = pd.read_csv('checkin.csv')"
   ]
  },
  {
   "cell_type": "code",
   "execution_count": 25,
   "metadata": {
    "collapsed": false
   },
   "outputs": [
    {
     "data": {
      "text/html": [
       "<div>\n",
       "<table border=\"1\" class=\"dataframe\">\n",
       "  <thead>\n",
       "    <tr style=\"text-align: right;\">\n",
       "      <th></th>\n",
       "      <th>checkin_info.9-0</th>\n",
       "      <th>checkin_info.9-1</th>\n",
       "      <th>checkin_info.9-2</th>\n",
       "      <th>checkin_info.9-3</th>\n",
       "      <th>checkin_info.9-4</th>\n",
       "      <th>checkin_info.9-5</th>\n",
       "      <th>checkin_info.9-6</th>\n",
       "      <th>checkin_info.20-2</th>\n",
       "      <th>checkin_info.20-3</th>\n",
       "      <th>checkin_info.20-0</th>\n",
       "      <th>...</th>\n",
       "      <th>checkin_info.6-1</th>\n",
       "      <th>checkin_info.6-0</th>\n",
       "      <th>checkin_info.3-1</th>\n",
       "      <th>checkin_info.18-6</th>\n",
       "      <th>checkin_info.18-5</th>\n",
       "      <th>checkin_info.18-4</th>\n",
       "      <th>checkin_info.18-3</th>\n",
       "      <th>checkin_info.18-2</th>\n",
       "      <th>checkin_info.18-1</th>\n",
       "      <th>checkin_info.18-0</th>\n",
       "    </tr>\n",
       "  </thead>\n",
       "  <tbody>\n",
       "    <tr>\n",
       "      <th>0</th>\n",
       "      <td>NaN</td>\n",
       "      <td>NaN</td>\n",
       "      <td>NaN</td>\n",
       "      <td>NaN</td>\n",
       "      <td>NaN</td>\n",
       "      <td>1.0</td>\n",
       "      <td>NaN</td>\n",
       "      <td>NaN</td>\n",
       "      <td>NaN</td>\n",
       "      <td>NaN</td>\n",
       "      <td>...</td>\n",
       "      <td>NaN</td>\n",
       "      <td>NaN</td>\n",
       "      <td>NaN</td>\n",
       "      <td>NaN</td>\n",
       "      <td>NaN</td>\n",
       "      <td>1.0</td>\n",
       "      <td>NaN</td>\n",
       "      <td>NaN</td>\n",
       "      <td>NaN</td>\n",
       "      <td>NaN</td>\n",
       "    </tr>\n",
       "    <tr>\n",
       "      <th>1</th>\n",
       "      <td>NaN</td>\n",
       "      <td>NaN</td>\n",
       "      <td>NaN</td>\n",
       "      <td>NaN</td>\n",
       "      <td>3.0</td>\n",
       "      <td>2.0</td>\n",
       "      <td>NaN</td>\n",
       "      <td>NaN</td>\n",
       "      <td>NaN</td>\n",
       "      <td>NaN</td>\n",
       "      <td>...</td>\n",
       "      <td>NaN</td>\n",
       "      <td>NaN</td>\n",
       "      <td>NaN</td>\n",
       "      <td>NaN</td>\n",
       "      <td>NaN</td>\n",
       "      <td>NaN</td>\n",
       "      <td>NaN</td>\n",
       "      <td>NaN</td>\n",
       "      <td>NaN</td>\n",
       "      <td>NaN</td>\n",
       "    </tr>\n",
       "    <tr>\n",
       "      <th>2</th>\n",
       "      <td>NaN</td>\n",
       "      <td>NaN</td>\n",
       "      <td>NaN</td>\n",
       "      <td>1.0</td>\n",
       "      <td>NaN</td>\n",
       "      <td>NaN</td>\n",
       "      <td>NaN</td>\n",
       "      <td>NaN</td>\n",
       "      <td>NaN</td>\n",
       "      <td>NaN</td>\n",
       "      <td>...</td>\n",
       "      <td>NaN</td>\n",
       "      <td>NaN</td>\n",
       "      <td>NaN</td>\n",
       "      <td>NaN</td>\n",
       "      <td>NaN</td>\n",
       "      <td>NaN</td>\n",
       "      <td>NaN</td>\n",
       "      <td>NaN</td>\n",
       "      <td>NaN</td>\n",
       "      <td>NaN</td>\n",
       "    </tr>\n",
       "    <tr>\n",
       "      <th>3</th>\n",
       "      <td>NaN</td>\n",
       "      <td>1.0</td>\n",
       "      <td>NaN</td>\n",
       "      <td>NaN</td>\n",
       "      <td>5.0</td>\n",
       "      <td>NaN</td>\n",
       "      <td>NaN</td>\n",
       "      <td>NaN</td>\n",
       "      <td>NaN</td>\n",
       "      <td>NaN</td>\n",
       "      <td>...</td>\n",
       "      <td>NaN</td>\n",
       "      <td>NaN</td>\n",
       "      <td>NaN</td>\n",
       "      <td>NaN</td>\n",
       "      <td>NaN</td>\n",
       "      <td>1.0</td>\n",
       "      <td>2.0</td>\n",
       "      <td>1.0</td>\n",
       "      <td>NaN</td>\n",
       "      <td>NaN</td>\n",
       "    </tr>\n",
       "    <tr>\n",
       "      <th>4</th>\n",
       "      <td>NaN</td>\n",
       "      <td>NaN</td>\n",
       "      <td>NaN</td>\n",
       "      <td>NaN</td>\n",
       "      <td>NaN</td>\n",
       "      <td>NaN</td>\n",
       "      <td>NaN</td>\n",
       "      <td>NaN</td>\n",
       "      <td>NaN</td>\n",
       "      <td>NaN</td>\n",
       "      <td>...</td>\n",
       "      <td>NaN</td>\n",
       "      <td>NaN</td>\n",
       "      <td>NaN</td>\n",
       "      <td>NaN</td>\n",
       "      <td>NaN</td>\n",
       "      <td>NaN</td>\n",
       "      <td>NaN</td>\n",
       "      <td>NaN</td>\n",
       "      <td>NaN</td>\n",
       "      <td>NaN</td>\n",
       "    </tr>\n",
       "  </tbody>\n",
       "</table>\n",
       "<p>5 rows × 170 columns</p>\n",
       "</div>"
      ],
      "text/plain": [
       "   checkin_info.9-0  checkin_info.9-1  checkin_info.9-2  checkin_info.9-3  \\\n",
       "0               NaN               NaN               NaN               NaN   \n",
       "1               NaN               NaN               NaN               NaN   \n",
       "2               NaN               NaN               NaN               1.0   \n",
       "3               NaN               1.0               NaN               NaN   \n",
       "4               NaN               NaN               NaN               NaN   \n",
       "\n",
       "   checkin_info.9-4  checkin_info.9-5  checkin_info.9-6  checkin_info.20-2  \\\n",
       "0               NaN               1.0               NaN                NaN   \n",
       "1               3.0               2.0               NaN                NaN   \n",
       "2               NaN               NaN               NaN                NaN   \n",
       "3               5.0               NaN               NaN                NaN   \n",
       "4               NaN               NaN               NaN                NaN   \n",
       "\n",
       "   checkin_info.20-3  checkin_info.20-0        ...          checkin_info.6-1  \\\n",
       "0                NaN                NaN        ...                       NaN   \n",
       "1                NaN                NaN        ...                       NaN   \n",
       "2                NaN                NaN        ...                       NaN   \n",
       "3                NaN                NaN        ...                       NaN   \n",
       "4                NaN                NaN        ...                       NaN   \n",
       "\n",
       "   checkin_info.6-0  checkin_info.3-1  checkin_info.18-6 checkin_info.18-5  \\\n",
       "0               NaN               NaN                NaN               NaN   \n",
       "1               NaN               NaN                NaN               NaN   \n",
       "2               NaN               NaN                NaN               NaN   \n",
       "3               NaN               NaN                NaN               NaN   \n",
       "4               NaN               NaN                NaN               NaN   \n",
       "\n",
       "   checkin_info.18-4  checkin_info.18-3  checkin_info.18-2  checkin_info.18-1  \\\n",
       "0                1.0                NaN                NaN                NaN   \n",
       "1                NaN                NaN                NaN                NaN   \n",
       "2                NaN                NaN                NaN                NaN   \n",
       "3                1.0                2.0                1.0                NaN   \n",
       "4                NaN                NaN                NaN                NaN   \n",
       "\n",
       "   checkin_info.18-0  \n",
       "0                NaN  \n",
       "1                NaN  \n",
       "2                NaN  \n",
       "3                NaN  \n",
       "4                NaN  \n",
       "\n",
       "[5 rows x 170 columns]"
      ]
     },
     "execution_count": 25,
     "metadata": {},
     "output_type": "execute_result"
    }
   ],
   "source": [
    "checkin.head()"
   ]
  },
  {
   "cell_type": "markdown",
   "metadata": {},
   "source": [
    "\n",
    "#### Lets see if the prediction scores for star rating of a business can be improved if we also include the check in info as one of the predictors. Note that this attribute is a user interaction based attribute, and deviates slightly from our use case that a business was new. However this score  "
   ]
  },
  {
   "cell_type": "code",
   "execution_count": 26,
   "metadata": {
    "collapsed": false
   },
   "outputs": [],
   "source": [
    "business_checkin = business.merge(checkin, on = 'business_id', how = 'left')"
   ]
  },
  {
   "cell_type": "code",
   "execution_count": 27,
   "metadata": {
    "collapsed": false
   },
   "outputs": [
    {
     "data": {
      "text/html": [
       "<div>\n",
       "<table border=\"1\" class=\"dataframe\">\n",
       "  <thead>\n",
       "    <tr style=\"text-align: right;\">\n",
       "      <th></th>\n",
       "      <th>attributes.Ambience.divey</th>\n",
       "      <th>attributes.Dietary Restrictions.vegan</th>\n",
       "      <th>attributes.Happy Hour</th>\n",
       "      <th>hours.Thursday.open</th>\n",
       "      <th>attributes.Order at Counter</th>\n",
       "      <th>attributes.Hair Types Specialized In.africanamerican</th>\n",
       "      <th>attributes.Hair Types Specialized In.kids</th>\n",
       "      <th>attributes.BYOB</th>\n",
       "      <th>hours.Friday.open</th>\n",
       "      <th>attributes.Good For.latenight</th>\n",
       "      <th>...</th>\n",
       "      <th>checkin_info.6-1</th>\n",
       "      <th>checkin_info.6-0</th>\n",
       "      <th>checkin_info.3-1</th>\n",
       "      <th>checkin_info.18-6</th>\n",
       "      <th>checkin_info.18-5</th>\n",
       "      <th>checkin_info.18-4</th>\n",
       "      <th>checkin_info.18-3</th>\n",
       "      <th>checkin_info.18-2</th>\n",
       "      <th>checkin_info.18-1</th>\n",
       "      <th>checkin_info.18-0</th>\n",
       "    </tr>\n",
       "  </thead>\n",
       "  <tbody>\n",
       "    <tr>\n",
       "      <th>0</th>\n",
       "      <td>False</td>\n",
       "      <td>NaN</td>\n",
       "      <td>NaN</td>\n",
       "      <td>11:00</td>\n",
       "      <td>NaN</td>\n",
       "      <td>NaN</td>\n",
       "      <td>NaN</td>\n",
       "      <td>NaN</td>\n",
       "      <td>11:00</td>\n",
       "      <td>False</td>\n",
       "      <td>...</td>\n",
       "      <td>NaN</td>\n",
       "      <td>NaN</td>\n",
       "      <td>NaN</td>\n",
       "      <td>NaN</td>\n",
       "      <td>NaN</td>\n",
       "      <td>NaN</td>\n",
       "      <td>NaN</td>\n",
       "      <td>NaN</td>\n",
       "      <td>NaN</td>\n",
       "      <td>NaN</td>\n",
       "    </tr>\n",
       "    <tr>\n",
       "      <th>1</th>\n",
       "      <td>NaN</td>\n",
       "      <td>NaN</td>\n",
       "      <td>True</td>\n",
       "      <td>NaN</td>\n",
       "      <td>NaN</td>\n",
       "      <td>NaN</td>\n",
       "      <td>NaN</td>\n",
       "      <td>NaN</td>\n",
       "      <td>NaN</td>\n",
       "      <td>NaN</td>\n",
       "      <td>...</td>\n",
       "      <td>NaN</td>\n",
       "      <td>NaN</td>\n",
       "      <td>NaN</td>\n",
       "      <td>NaN</td>\n",
       "      <td>NaN</td>\n",
       "      <td>NaN</td>\n",
       "      <td>NaN</td>\n",
       "      <td>NaN</td>\n",
       "      <td>NaN</td>\n",
       "      <td>NaN</td>\n",
       "    </tr>\n",
       "    <tr>\n",
       "      <th>2</th>\n",
       "      <td>NaN</td>\n",
       "      <td>NaN</td>\n",
       "      <td>NaN</td>\n",
       "      <td>NaN</td>\n",
       "      <td>NaN</td>\n",
       "      <td>NaN</td>\n",
       "      <td>NaN</td>\n",
       "      <td>NaN</td>\n",
       "      <td>NaN</td>\n",
       "      <td>NaN</td>\n",
       "      <td>...</td>\n",
       "      <td>NaN</td>\n",
       "      <td>NaN</td>\n",
       "      <td>NaN</td>\n",
       "      <td>NaN</td>\n",
       "      <td>NaN</td>\n",
       "      <td>1.0</td>\n",
       "      <td>NaN</td>\n",
       "      <td>NaN</td>\n",
       "      <td>NaN</td>\n",
       "      <td>NaN</td>\n",
       "    </tr>\n",
       "    <tr>\n",
       "      <th>3</th>\n",
       "      <td>True</td>\n",
       "      <td>NaN</td>\n",
       "      <td>False</td>\n",
       "      <td>10:00</td>\n",
       "      <td>NaN</td>\n",
       "      <td>NaN</td>\n",
       "      <td>NaN</td>\n",
       "      <td>NaN</td>\n",
       "      <td>10:00</td>\n",
       "      <td>False</td>\n",
       "      <td>...</td>\n",
       "      <td>NaN</td>\n",
       "      <td>NaN</td>\n",
       "      <td>NaN</td>\n",
       "      <td>NaN</td>\n",
       "      <td>NaN</td>\n",
       "      <td>NaN</td>\n",
       "      <td>NaN</td>\n",
       "      <td>NaN</td>\n",
       "      <td>NaN</td>\n",
       "      <td>NaN</td>\n",
       "    </tr>\n",
       "    <tr>\n",
       "      <th>4</th>\n",
       "      <td>NaN</td>\n",
       "      <td>NaN</td>\n",
       "      <td>NaN</td>\n",
       "      <td>11:00</td>\n",
       "      <td>NaN</td>\n",
       "      <td>NaN</td>\n",
       "      <td>NaN</td>\n",
       "      <td>NaN</td>\n",
       "      <td>11:00</td>\n",
       "      <td>NaN</td>\n",
       "      <td>...</td>\n",
       "      <td>NaN</td>\n",
       "      <td>NaN</td>\n",
       "      <td>NaN</td>\n",
       "      <td>NaN</td>\n",
       "      <td>NaN</td>\n",
       "      <td>NaN</td>\n",
       "      <td>NaN</td>\n",
       "      <td>NaN</td>\n",
       "      <td>NaN</td>\n",
       "      <td>NaN</td>\n",
       "    </tr>\n",
       "  </tbody>\n",
       "</table>\n",
       "<p>5 rows × 1284 columns</p>\n",
       "</div>"
      ],
      "text/plain": [
       "  attributes.Ambience.divey attributes.Dietary Restrictions.vegan  \\\n",
       "0                     False                                   NaN   \n",
       "1                       NaN                                   NaN   \n",
       "2                       NaN                                   NaN   \n",
       "3                      True                                   NaN   \n",
       "4                       NaN                                   NaN   \n",
       "\n",
       "  attributes.Happy Hour hours.Thursday.open attributes.Order at Counter  \\\n",
       "0                   NaN               11:00                         NaN   \n",
       "1                  True                 NaN                         NaN   \n",
       "2                   NaN                 NaN                         NaN   \n",
       "3                 False               10:00                         NaN   \n",
       "4                   NaN               11:00                         NaN   \n",
       "\n",
       "  attributes.Hair Types Specialized In.africanamerican  \\\n",
       "0                                                NaN     \n",
       "1                                                NaN     \n",
       "2                                                NaN     \n",
       "3                                                NaN     \n",
       "4                                                NaN     \n",
       "\n",
       "  attributes.Hair Types Specialized In.kids attributes.BYOB hours.Friday.open  \\\n",
       "0                                       NaN             NaN             11:00   \n",
       "1                                       NaN             NaN               NaN   \n",
       "2                                       NaN             NaN               NaN   \n",
       "3                                       NaN             NaN             10:00   \n",
       "4                                       NaN             NaN             11:00   \n",
       "\n",
       "  attributes.Good For.latenight        ...        checkin_info.6-1  \\\n",
       "0                         False        ...                     NaN   \n",
       "1                           NaN        ...                     NaN   \n",
       "2                           NaN        ...                     NaN   \n",
       "3                         False        ...                     NaN   \n",
       "4                           NaN        ...                     NaN   \n",
       "\n",
       "  checkin_info.6-0 checkin_info.3-1 checkin_info.18-6 checkin_info.18-5  \\\n",
       "0              NaN              NaN               NaN               NaN   \n",
       "1              NaN              NaN               NaN               NaN   \n",
       "2              NaN              NaN               NaN               NaN   \n",
       "3              NaN              NaN               NaN               NaN   \n",
       "4              NaN              NaN               NaN               NaN   \n",
       "\n",
       "  checkin_info.18-4 checkin_info.18-3 checkin_info.18-2 checkin_info.18-1  \\\n",
       "0               NaN               NaN               NaN               NaN   \n",
       "1               NaN               NaN               NaN               NaN   \n",
       "2               1.0               NaN               NaN               NaN   \n",
       "3               NaN               NaN               NaN               NaN   \n",
       "4               NaN               NaN               NaN               NaN   \n",
       "\n",
       "  checkin_info.18-0  \n",
       "0               NaN  \n",
       "1               NaN  \n",
       "2               NaN  \n",
       "3               NaN  \n",
       "4               NaN  \n",
       "\n",
       "[5 rows x 1284 columns]"
      ]
     },
     "execution_count": 27,
     "metadata": {},
     "output_type": "execute_result"
    }
   ],
   "source": [
    "business_checkin.head()"
   ]
  },
  {
   "cell_type": "markdown",
   "metadata": {},
   "source": [
    "#### Lets add all the 'checkin_info' from the business_checkin data frame as features into the above model"
   ]
  },
  {
   "cell_type": "code",
   "execution_count": 28,
   "metadata": {
    "collapsed": false
   },
   "outputs": [
    {
     "name": "stdout",
     "output_type": "stream",
     "text": [
      "Model Name : LinearRegression, Train Score = 0.25444365497076404, Test Score = 0.22425768482976072, Train Set size = (68720, 1246)\n"
     ]
    }
   ],
   "source": [
    "numeric_col_names = ['latitude', 'longitude','attributes.Price Range']\n",
    "other_col_prefix = ['Ambience','Good For','Music', 'Parking', 'Dietary Restrictions', 'Hair', 'computed.category.', 'checkin_info']\n",
    "y_col_name = 'stars'\n",
    "lr = LinearRegression()\n",
    "eval_res = eval_score(lr, 'LinearRegression', business_checkin, numeric_col_names, other_col_prefix, y_col_name)"
   ]
  },
  {
   "cell_type": "markdown",
   "metadata": {},
   "source": [
    "#### We will try a gradient boosting approach on this towards the end of the notebook"
   ]
  },
  {
   "cell_type": "markdown",
   "metadata": {},
   "source": [
    "#### Now lets change our problem definition slightly, to see if this problem can be solved as a classification problem. \n",
    "#### Lets try to predict now whether a business has a 'Good Score' or 'Bad Score' based on its meta data and check in info or not \n",
    "#### We define a 'Good Score' for business to be any rating >= average (computed over the training set)"
   ]
  },
  {
   "cell_type": "code",
   "execution_count": 29,
   "metadata": {
    "collapsed": false
   },
   "outputs": [],
   "source": [
    "mean_star_rating = eval_res['y_train'].mean()"
   ]
  },
  {
   "cell_type": "code",
   "execution_count": 30,
   "metadata": {
    "collapsed": false
   },
   "outputs": [
    {
     "data": {
      "text/plain": [
       "3.696711292200233"
      ]
     },
     "execution_count": 30,
     "metadata": {},
     "output_type": "execute_result"
    }
   ],
   "source": [
    "mean_star_rating"
   ]
  },
  {
   "cell_type": "code",
   "execution_count": 31,
   "metadata": {
    "collapsed": false
   },
   "outputs": [],
   "source": [
    "business_checkin['good_score'] = business_checkin['stars'].apply(lambda x: x >= mean_star_rating)"
   ]
  },
  {
   "cell_type": "markdown",
   "metadata": {},
   "source": [
    "#### Lets train a logistic regression model on this, and create a classification model using only business meta data as its features (i.e not including checkin info)"
   ]
  },
  {
   "cell_type": "code",
   "execution_count": 32,
   "metadata": {
    "collapsed": false
   },
   "outputs": [
    {
     "name": "stdout",
     "output_type": "stream",
     "text": [
      "Model Name : LogisticRegression, Train Score = 0.6922147846332946, Test Score = 0.6807519934811711, Train Set size = (68720, 1078)\n"
     ]
    }
   ],
   "source": [
    "numeric_col_names = ['latitude', 'longitude','attributes.Price Range']\n",
    "other_col_prefix = ['Ambience','Good For','Music', 'Parking', 'Dietary Restrictions', 'Hair', 'computed.category.']\n",
    "y_col_name = 'good_score'\n",
    "lr = LogisticRegression()\n",
    "eval_res = eval_score(lr, 'LogisticRegression', business_checkin, numeric_col_names, other_col_prefix, y_col_name)"
   ]
  },
  {
   "cell_type": "markdown",
   "metadata": {},
   "source": [
    "#### The scores above are high, but can be mis-leading, lets compute the precision recall curves "
   ]
  },
  {
   "cell_type": "code",
   "execution_count": 33,
   "metadata": {
    "collapsed": false
   },
   "outputs": [
    {
     "data": {
      "image/png": "[encoded data removed]",
      "text/plain": [
       "<matplotlib.figure.Figure at 0x121ac7470>"
      ]
     },
     "metadata": {},
     "output_type": "display_data"
    }
   ],
   "source": [
    "%matplotlib inline \n",
    "def plot_precision_recall(model, X_test, y_test):\n",
    "    y_score = model.decision_function(X_test)\n",
    "    precision, recall, threshold = precision_recall_curve(y_test,y_score)\n",
    "    average_precision = average_precision_score(y_test, y_score)\n",
    "    plt.clf()\n",
    "    plt.plot(recall, precision, label='Precision-Recall curve')\n",
    "    plt.xlabel('Recall')\n",
    "    plt.ylabel('Precision')\n",
    "    plt.ylim([0.0, 1.05])\n",
    "    plt.xlim([0.0, 1.0])\n",
    "    plt.title('Precision-Recall example: AUC={0:0.2f}'.format(average_precision))\n",
    "    plt.legend(loc=\"lower left\")\n",
    "    plt.show()\n",
    "    return pd.DataFrame({'precision':precision[1:], 'recall':recall[1:], 'threshold':threshold})\n",
    "precision_recall_threshold = plot_precision_recall(lr, eval_res['X_test'], eval_res['y_test'])"
   ]
  },
  {
   "cell_type": "markdown",
   "metadata": {},
   "source": [
    "#### An AUC of 0.69 as above, indicates that the model fits the data reasonably well, by choosing appropriate threshold for predicton we can achieve the desired precision, as well as recall"
   ]
  },
  {
   "cell_type": "markdown",
   "metadata": {},
   "source": [
    "#### Any of the threshold values from above table will yeild a precision and recall > 0.68"
   ]
  },
  {
   "cell_type": "code",
   "execution_count": 34,
   "metadata": {
    "collapsed": false,
    "scrolled": true
   },
   "outputs": [
    {
     "data": {
      "text/html": [
       "<div>\n",
       "<table border=\"1\" class=\"dataframe\">\n",
       "  <thead>\n",
       "    <tr style=\"text-align: right;\">\n",
       "      <th></th>\n",
       "      <th>precision</th>\n",
       "      <th>recall</th>\n",
       "      <th>threshold</th>\n",
       "    </tr>\n",
       "  </thead>\n",
       "  <tbody>\n",
       "    <tr>\n",
       "      <th>8199</th>\n",
       "      <td>0.680004</td>\n",
       "      <td>0.699095</td>\n",
       "      <td>-0.039632</td>\n",
       "    </tr>\n",
       "    <tr>\n",
       "      <th>8200</th>\n",
       "      <td>0.680080</td>\n",
       "      <td>0.699095</td>\n",
       "      <td>-0.039563</td>\n",
       "    </tr>\n",
       "    <tr>\n",
       "      <th>8201</th>\n",
       "      <td>0.680156</td>\n",
       "      <td>0.699095</td>\n",
       "      <td>-0.039458</td>\n",
       "    </tr>\n",
       "    <tr>\n",
       "      <th>8202</th>\n",
       "      <td>0.680120</td>\n",
       "      <td>0.698980</td>\n",
       "      <td>-0.038996</td>\n",
       "    </tr>\n",
       "    <tr>\n",
       "      <th>8203</th>\n",
       "      <td>0.680196</td>\n",
       "      <td>0.698980</td>\n",
       "      <td>-0.038929</td>\n",
       "    </tr>\n",
       "  </tbody>\n",
       "</table>\n",
       "</div>"
      ],
      "text/plain": [
       "      precision    recall  threshold\n",
       "8199   0.680004  0.699095  -0.039632\n",
       "8200   0.680080  0.699095  -0.039563\n",
       "8201   0.680156  0.699095  -0.039458\n",
       "8202   0.680120  0.698980  -0.038996\n",
       "8203   0.680196  0.698980  -0.038929"
      ]
     },
     "execution_count": 34,
     "metadata": {},
     "output_type": "execute_result"
    }
   ],
   "source": [
    "precision_recall_threshold.query ('precision > 0.68 and recall > 0.68').head()"
   ]
  },
  {
   "cell_type": "markdown",
   "metadata": {},
   "source": [
    "#### Lets include checkin infomration in this model, and evaluate again"
   ]
  },
  {
   "cell_type": "code",
   "execution_count": 35,
   "metadata": {
    "collapsed": false
   },
   "outputs": [
    {
     "name": "stdout",
     "output_type": "stream",
     "text": [
      "Model Name : LogisticRegression, Train Score = 0.6522991850989522, Test Score = 0.6476922181479542, Train Set size = (68720, 1246)\n"
     ]
    }
   ],
   "source": [
    "numeric_col_names = ['latitude', 'longitude','attributes.Price Range']\n",
    "other_col_prefix = ['Ambience','Good For','Music', 'Parking', 'Dietary Restrictions', 'Hair', 'computed.category.','checkin_info']\n",
    "y_col_name = 'good_score'\n",
    "lr = LogisticRegression()\n",
    "eval_res = eval_score(lr, 'LogisticRegression', business_checkin, numeric_col_names, other_col_prefix, y_col_name)"
   ]
  },
  {
   "cell_type": "code",
   "execution_count": 36,
   "metadata": {
    "collapsed": false
   },
   "outputs": [
    {
     "data": {
      "image/png": "[encoded data removed]",
      "text/plain": [
       "<matplotlib.figure.Figure at 0x121ab54a8>"
      ]
     },
     "metadata": {},
     "output_type": "display_data"
    }
   ],
   "source": [
    "precision_recall_threshold = plot_precision_recall(lr, eval_res['X_test'], eval_res['y_test'])"
   ]
  },
  {
   "cell_type": "markdown",
   "metadata": {},
   "source": []
  },
  {
   "cell_type": "code",
   "execution_count": 37,
   "metadata": {
    "collapsed": false,
    "scrolled": true
   },
   "outputs": [
    {
     "name": "stdout",
     "output_type": "stream",
     "text": [
      "      Iter       Train Loss   Remaining Time \n",
      "         1           1.3638           13.66m\n",
      "         2           1.3462           13.42m\n",
      "         3           1.3297           13.96m\n",
      "         4           1.3156           14.18m\n",
      "         5           1.3036           14.24m\n",
      "         6           1.2913           14.15m\n",
      "         7           1.2802           14.00m\n",
      "         8           1.2706           14.17m\n",
      "         9           1.2616           14.22m\n",
      "        10           1.2533           14.19m\n",
      "        11           1.2457           14.19m\n",
      "        12           1.2395           13.89m\n",
      "        13           1.2329           13.73m\n",
      "        14           1.2267           13.62m\n",
      "        15           1.2220           13.31m\n",
      "        16           1.2154           13.18m\n",
      "        17           1.2111           13.04m\n",
      "        18           1.2080           12.59m\n",
      "        19           1.2042           12.43m\n",
      "        20           1.1998           12.28m\n",
      "        21           1.1966           11.99m\n",
      "        22           1.1938           11.72m\n",
      "        23           1.1913           11.39m\n",
      "        24           1.1889           11.05m\n",
      "        25           1.1869           10.70m\n",
      "        26           1.1837           10.52m\n",
      "        27           1.1813           10.33m\n",
      "        28           1.1796           10.03m\n",
      "        29           1.1775            9.77m\n",
      "        30           1.1757            9.51m\n",
      "        31           1.1744            9.22m\n",
      "        32           1.1725            9.00m\n",
      "        33           1.1707            8.86m\n",
      "        34           1.1683            8.66m\n",
      "        35           1.1669            8.43m\n",
      "        36           1.1642            8.26m\n",
      "        37           1.1622            8.05m\n",
      "        38           1.1606            7.86m\n",
      "        39           1.1593            7.66m\n",
      "        40           1.1577            7.50m\n",
      "        41           1.1557            7.34m\n",
      "        42           1.1534            7.19m\n",
      "        43           1.1519            7.03m\n",
      "        44           1.1496            6.90m\n",
      "        45           1.1483            6.72m\n",
      "        46           1.1460            6.63m\n",
      "        47           1.1446            6.46m\n",
      "        48           1.1432            6.28m\n",
      "        49           1.1420            6.11m\n",
      "        50           1.1395            5.98m\n",
      "        51           1.1381            5.83m\n",
      "        52           1.1370            5.68m\n",
      "        53           1.1357            5.53m\n",
      "        54           1.1343            5.38m\n",
      "        55           1.1315            5.29m\n",
      "        56           1.1298            5.16m\n",
      "        57           1.1266            5.11m\n",
      "        58           1.1257            4.97m\n",
      "        59           1.1242            4.84m\n",
      "        60           1.1231            4.70m\n",
      "        61           1.1211            4.59m\n",
      "        62           1.1202            4.44m\n",
      "        63           1.1185            4.31m\n",
      "        64           1.1175            4.17m\n",
      "        65           1.1166            4.03m\n",
      "        66           1.1153            3.91m\n",
      "        67           1.1142            3.77m\n",
      "        68           1.1134            3.64m\n",
      "        69           1.1125            3.52m\n",
      "        70           1.1112            3.40m\n",
      "        71           1.1102            3.28m\n",
      "        72           1.1081            3.18m\n",
      "        73           1.1069            3.06m\n",
      "        74           1.1055            2.94m\n",
      "        75           1.1033            2.83m\n",
      "        76           1.1024            2.70m\n",
      "        77           1.1015            2.58m\n",
      "        78           1.1007            2.45m\n",
      "        79           1.0997            2.34m\n",
      "        80           1.0988            2.22m\n",
      "        81           1.0982            2.10m\n",
      "        82           1.0974            1.98m\n",
      "        83           1.0964            1.87m\n",
      "        84           1.0950            1.76m\n",
      "        85           1.0944            1.64m\n",
      "        86           1.0925            1.54m\n",
      "        87           1.0911            1.43m\n",
      "        88           1.0900            1.32m\n",
      "        89           1.0889            1.21m\n",
      "        90           1.0873            1.10m\n",
      "        91           1.0861           59.21s\n",
      "        92           1.0857           52.40s\n",
      "        93           1.0848           45.79s\n",
      "        94           1.0841           39.09s\n",
      "        95           1.0835           32.55s\n",
      "        96           1.0823           26.07s\n",
      "        97           1.0817           19.55s\n",
      "        98           1.0812           13.00s\n",
      "        99           1.0800            6.51s\n",
      "       100           1.0795            0.00s\n",
      "Model Name : Gradient Boosting Classifier, Train Score = 0.7436117578579744, Test Score = 0.6837785926313952, Train Set size = (68720, 1246)\n"
     ]
    }
   ],
   "source": [
    "gbr = GradientBoostingClassifier(n_estimators=100, max_depth = 8,  verbose=10)\n",
    "eval_res = eval_score(gbr, 'Gradient Boosting Classifier', business_checkin, numeric_col_names, other_col_prefix, y_col_name)"
   ]
  },
  {
   "cell_type": "code",
   "execution_count": 38,
   "metadata": {
    "collapsed": false
   },
   "outputs": [
    {
     "data": {
      "image/png": "[encoded data removed]",
      "text/plain": [
       "<matplotlib.figure.Figure at 0x1018db048>"
      ]
     },
     "metadata": {},
     "output_type": "display_data"
    }
   ],
   "source": [
    "precision_recall_threshold = plot_precision_recall(gbr, eval_res['X_test'], eval_res['y_test'])"
   ]
  },
  {
   "cell_type": "code",
   "execution_count": 39,
   "metadata": {
    "collapsed": false
   },
   "outputs": [
    {
     "data": {
      "text/html": [
       "<div>\n",
       "<table border=\"1\" class=\"dataframe\">\n",
       "  <thead>\n",
       "    <tr style=\"text-align: right;\">\n",
       "      <th></th>\n",
       "      <th>precision</th>\n",
       "      <th>recall</th>\n",
       "      <th>threshold</th>\n",
       "    </tr>\n",
       "  </thead>\n",
       "  <tbody>\n",
       "    <tr>\n",
       "      <th>6974</th>\n",
       "      <td>0.680022</td>\n",
       "      <td>0.717658</td>\n",
       "      <td>0.033852</td>\n",
       "    </tr>\n",
       "    <tr>\n",
       "      <th>6975</th>\n",
       "      <td>0.680096</td>\n",
       "      <td>0.717658</td>\n",
       "      <td>0.034092</td>\n",
       "    </tr>\n",
       "    <tr>\n",
       "      <th>6976</th>\n",
       "      <td>0.680061</td>\n",
       "      <td>0.717543</td>\n",
       "      <td>0.034271</td>\n",
       "    </tr>\n",
       "    <tr>\n",
       "      <th>6977</th>\n",
       "      <td>0.680135</td>\n",
       "      <td>0.717543</td>\n",
       "      <td>0.034506</td>\n",
       "    </tr>\n",
       "    <tr>\n",
       "      <th>6979</th>\n",
       "      <td>0.680070</td>\n",
       "      <td>0.717085</td>\n",
       "      <td>0.035023</td>\n",
       "    </tr>\n",
       "  </tbody>\n",
       "</table>\n",
       "</div>"
      ],
      "text/plain": [
       "      precision    recall  threshold\n",
       "6974   0.680022  0.717658   0.033852\n",
       "6975   0.680096  0.717658   0.034092\n",
       "6976   0.680061  0.717543   0.034271\n",
       "6977   0.680135  0.717543   0.034506\n",
       "6979   0.680070  0.717085   0.035023"
      ]
     },
     "execution_count": 39,
     "metadata": {},
     "output_type": "execute_result"
    }
   ],
   "source": [
    "precision_recall_threshold.query ('precision > 0.68 and recall > 0.68').head()"
   ]
  },
  {
   "cell_type": "markdown",
   "metadata": {},
   "source": [
    "#### Computing Gradient boosted model for regression with a depth of 300\n",
    "#### This takes a long time to generate, hence computing this at the end"
   ]
  },
  {
   "cell_type": "code",
   "execution_count": 40,
   "metadata": {
    "collapsed": false
   },
   "outputs": [
    {
     "name": "stdout",
     "output_type": "stream",
     "text": [
      "Model Name : LinearRegression, Train Score = 0.25444365497076404, Test Score = 0.22425768482976072, Train Set size = (68720, 1246)\n",
      "      Iter       Train Loss   Remaining Time \n",
      "         1           0.8725           60.66m\n",
      "         2           0.8539           61.54m\n",
      "         3           0.8385           55.39m\n",
      "         4           0.8231           52.77m\n",
      "         5           0.8096           51.40m\n",
      "         6           0.7983           50.85m\n",
      "         7           0.7885           49.57m\n",
      "         8           0.7787           49.25m\n",
      "         9           0.7707           49.34m\n",
      "        10           0.7628           49.44m\n",
      "        11           0.7567           48.51m\n",
      "        12           0.7505           47.58m\n",
      "        13           0.7452           46.79m\n",
      "        14           0.7418           45.44m\n",
      "        15           0.7362           45.37m\n",
      "        16           0.7316           44.85m\n",
      "        17           0.7272           44.26m\n",
      "        18           0.7236           43.32m\n",
      "        19           0.7205           42.04m\n",
      "        20           0.7160           41.47m\n",
      "        21           0.7130           40.79m\n",
      "        22           0.7106           40.19m\n",
      "        23           0.7086           39.37m\n",
      "        24           0.7062           38.87m\n",
      "        25           0.7035           38.18m\n",
      "        26           0.7009           37.38m\n",
      "        27           0.6984           36.77m\n",
      "        28           0.6966           36.14m\n",
      "        29           0.6947           35.44m\n",
      "        30           0.6925           34.77m\n",
      "        31           0.6903           34.24m\n",
      "        32           0.6879           33.80m\n",
      "        33           0.6867           33.23m\n",
      "        34           0.6850           32.72m\n",
      "        35           0.6829           32.21m\n",
      "        36           0.6809           31.89m\n",
      "        37           0.6788           31.66m\n",
      "        38           0.6774           31.16m\n",
      "        39           0.6755           30.77m\n",
      "        40           0.6734           30.62m\n",
      "        41           0.6716           30.40m\n",
      "        42           0.6700           30.03m\n",
      "        43           0.6689           29.68m\n",
      "        44           0.6673           29.45m\n",
      "        45           0.6657           29.27m\n",
      "        46           0.6646           28.90m\n",
      "        47           0.6633           28.56m\n",
      "        48           0.6623           28.22m\n",
      "        49           0.6606           28.02m\n",
      "        50           0.6597           27.69m\n",
      "        51           0.6578           27.48m\n",
      "        52           0.6557           27.47m\n",
      "        53           0.6544           27.28m\n",
      "        54           0.6532           27.00m\n",
      "        55           0.6521           26.72m\n",
      "        56           0.6514           26.38m\n",
      "        57           0.6507           26.06m\n",
      "        58           0.6492           25.81m\n",
      "        59           0.6478           25.54m\n",
      "        60           0.6467           25.28m\n",
      "        61           0.6456           25.06m\n",
      "        62           0.6449           24.79m\n",
      "        63           0.6425           25.01m\n",
      "        64           0.6411           24.87m\n",
      "        65           0.6396           24.68m\n",
      "        66           0.6387           24.46m\n",
      "        67           0.6378           24.23m\n",
      "        68           0.6371           23.99m\n",
      "        69           0.6360           23.76m\n",
      "        70           0.6347           23.65m\n",
      "        71           0.6340           23.41m\n",
      "        72           0.6334           23.19m\n",
      "        73           0.6327           22.95m\n",
      "        74           0.6320           22.72m\n",
      "        75           0.6299           22.87m\n",
      "        76           0.6285           22.75m\n",
      "        77           0.6263           22.91m\n",
      "        78           0.6256           22.71m\n",
      "        79           0.6249           22.52m\n",
      "        80           0.6244           22.31m\n",
      "        81           0.6234           22.13m\n",
      "        82           0.6228           21.96m\n",
      "        83           0.6216           21.87m\n",
      "        84           0.6202           21.72m\n",
      "        85           0.6195           21.56m\n",
      "        86           0.6187           21.44m\n",
      "        87           0.6176           21.36m\n",
      "        88           0.6164           21.28m\n",
      "        89           0.6159           21.09m\n",
      "        90           0.6147           20.95m\n",
      "        91           0.6138           20.78m\n",
      "        92           0.6127           20.66m\n",
      "        93           0.6122           20.47m\n",
      "        94           0.6117           20.28m\n",
      "        95           0.6111           20.12m\n",
      "        96           0.6106           19.93m\n",
      "        97           0.6099           19.77m\n",
      "        98           0.6087           19.70m\n",
      "        99           0.6080           19.56m\n",
      "       100           0.6072           19.48m\n",
      "       101           0.6065           19.36m\n",
      "       102           0.6060           19.22m\n",
      "       103           0.6053           19.08m\n",
      "       104           0.6042           18.99m\n",
      "       105           0.6036           18.84m\n",
      "       106           0.6030           18.69m\n",
      "       107           0.6023           18.56m\n",
      "       108           0.6017           18.43m\n",
      "       109           0.6007           18.29m\n",
      "       110           0.6003           18.12m\n",
      "       111           0.5998           17.97m\n",
      "       112           0.5990           17.87m\n",
      "       113           0.5986           17.72m\n",
      "       114           0.5981           17.59m\n",
      "       115           0.5975           17.48m\n",
      "       116           0.5972           17.34m\n",
      "       117           0.5968           17.19m\n",
      "       118           0.5962           17.09m\n",
      "       119           0.5957           16.95m\n",
      "       120           0.5954           16.80m\n",
      "       121           0.5947           16.66m\n",
      "       122           0.5940           16.54m\n",
      "       123           0.5929           16.45m\n",
      "       124           0.5918           16.39m\n",
      "       125           0.5914           16.26m\n",
      "       126           0.5907           16.14m\n",
      "       127           0.5902           16.01m\n",
      "       128           0.5898           15.89m\n",
      "       129           0.5893           15.74m\n",
      "       130           0.5890           15.61m\n",
      "       131           0.5886           15.47m\n",
      "       132           0.5879           15.35m\n",
      "       133           0.5873           15.24m\n",
      "       134           0.5866           15.11m\n",
      "       135           0.5862           14.98m\n",
      "       136           0.5859           14.85m\n",
      "       137           0.5855           14.72m\n",
      "       138           0.5850           14.59m\n",
      "       139           0.5847           14.46m\n",
      "       140           0.5844           14.35m\n",
      "       141           0.5836           14.28m\n",
      "       142           0.5829           14.16m\n",
      "       143           0.5825           14.04m\n",
      "       144           0.5820           13.93m\n",
      "       145           0.5816           13.81m\n",
      "       146           0.5812           13.70m\n",
      "       147           0.5806           13.60m\n",
      "       148           0.5802           13.48m\n",
      "       149           0.5793           13.38m\n",
      "       150           0.5789           13.26m\n",
      "       151           0.5786           13.15m\n",
      "       152           0.5783           13.03m\n",
      "       153           0.5778           12.92m\n",
      "       154           0.5772           12.82m\n",
      "       155           0.5769           12.70m\n",
      "       156           0.5764           12.58m\n",
      "       157           0.5759           12.50m\n",
      "       158           0.5755           12.38m\n",
      "       159           0.5753           12.27m\n",
      "       160           0.5750           12.16m\n",
      "       161           0.5747           12.04m\n",
      "       162           0.5743           11.93m\n",
      "       163           0.5740           11.82m\n",
      "       164           0.5735           11.73m\n",
      "       165           0.5725           11.68m\n",
      "       166           0.5720           11.60m\n",
      "       167           0.5715           11.49m\n",
      "       168           0.5712           11.38m\n",
      "       169           0.5708           11.28m\n",
      "       170           0.5702           11.18m\n",
      "       171           0.5697           11.08m\n",
      "       172           0.5693           10.97m\n",
      "       173           0.5690           10.86m\n",
      "       174           0.5686           10.77m\n",
      "       175           0.5683           10.66m\n",
      "       176           0.5680           10.56m\n",
      "       177           0.5675           10.46m\n",
      "       178           0.5669           10.36m\n",
      "       179           0.5666           10.26m\n",
      "       180           0.5664           10.16m\n",
      "       181           0.5660           10.06m\n",
      "       182           0.5659            9.95m\n",
      "       183           0.5648            9.88m\n",
      "       184           0.5638            9.79m\n",
      "       185           0.5631            9.70m\n",
      "       186           0.5629            9.60m\n",
      "       187           0.5626            9.51m\n",
      "       188           0.5623            9.41m\n",
      "       189           0.5620            9.31m\n",
      "       190           0.5618            9.21m\n",
      "       191           0.5611            9.12m\n",
      "       192           0.5607            9.03m\n",
      "       193           0.5603            8.93m\n",
      "       194           0.5599            8.84m\n",
      "       195           0.5597            8.74m\n",
      "       196           0.5593            8.65m\n",
      "       197           0.5590            8.56m\n",
      "       198           0.5585            8.46m\n",
      "       199           0.5582            8.37m\n",
      "       200           0.5580            8.27m\n",
      "       201           0.5576            8.18m\n",
      "       202           0.5574            8.09m\n",
      "       203           0.5571            8.00m\n",
      "       204           0.5568            7.90m\n",
      "       205           0.5564            7.82m\n",
      "       206           0.5561            7.73m\n",
      "       207           0.5557            7.64m\n",
      "       208           0.5553            7.55m\n",
      "       209           0.5551            7.46m\n",
      "       210           0.5545            7.37m\n",
      "       211           0.5541            7.28m\n",
      "       212           0.5538            7.19m\n",
      "       213           0.5535            7.10m\n",
      "       214           0.5533            7.01m\n",
      "       215           0.5529            6.92m\n",
      "       216           0.5526            6.83m\n",
      "       217           0.5522            6.74m\n",
      "       218           0.5520            6.65m\n",
      "       219           0.5517            6.57m\n",
      "       220           0.5514            6.47m\n",
      "       221           0.5511            6.38m\n",
      "       222           0.5500            6.31m\n",
      "       223           0.5497            6.22m\n",
      "       224           0.5494            6.13m\n",
      "       225           0.5491            6.05m\n",
      "       226           0.5488            5.96m\n",
      "       227           0.5487            5.87m\n",
      "       228           0.5484            5.79m\n",
      "       229           0.5482            5.70m\n",
      "       230           0.5482            5.61m\n",
      "       231           0.5478            5.52m\n",
      "       232           0.5476            5.44m\n",
      "       233           0.5474            5.35m\n",
      "       234           0.5471            5.27m\n",
      "       235           0.5466            5.19m\n",
      "       236           0.5463            5.10m\n",
      "       237           0.5461            5.02m\n",
      "       238           0.5460            4.93m\n",
      "       239           0.5456            4.86m\n",
      "       240           0.5452            4.77m\n",
      "       241           0.5450            4.69m\n",
      "       242           0.5445            4.61m\n",
      "       243           0.5436            4.53m\n",
      "       244           0.5432            4.45m\n",
      "       245           0.5430            4.37m\n",
      "       246           0.5425            4.29m\n",
      "       247           0.5423            4.20m\n",
      "       248           0.5422            4.12m\n",
      "       249           0.5420            4.03m\n",
      "       250           0.5417            3.95m\n",
      "       251           0.5414            3.87m\n",
      "       252           0.5408            3.79m\n",
      "       253           0.5403            3.71m\n",
      "       254           0.5399            3.62m\n",
      "       255           0.5393            3.54m\n",
      "       256           0.5391            3.46m\n",
      "       257           0.5388            3.38m\n",
      "       258           0.5382            3.30m\n",
      "       259           0.5380            3.22m\n",
      "       260           0.5378            3.14m\n",
      "       261           0.5377            3.05m\n",
      "       262           0.5375            2.97m\n",
      "       263           0.5372            2.89m\n",
      "       264           0.5367            2.82m\n",
      "       265           0.5365            2.74m\n",
      "       266           0.5362            2.66m\n",
      "       267           0.5355            2.58m\n",
      "       268           0.5353            2.50m\n",
      "       269           0.5345            2.42m\n",
      "       270           0.5342            2.34m\n",
      "       271           0.5340            2.26m\n",
      "       272           0.5335            2.18m\n",
      "       273           0.5333            2.10m\n",
      "       274           0.5332            2.02m\n",
      "       275           0.5330            1.94m\n",
      "       276           0.5328            1.86m\n",
      "       277           0.5326            1.78m\n",
      "       278           0.5321            1.70m\n",
      "       279           0.5316            1.63m\n",
      "       280           0.5313            1.55m\n",
      "       281           0.5310            1.47m\n",
      "       282           0.5307            1.39m\n",
      "       283           0.5304            1.31m\n",
      "       284           0.5303            1.23m\n",
      "       285           0.5301            1.16m\n",
      "       286           0.5299            1.08m\n",
      "       287           0.5297            1.00m\n",
      "       288           0.5295           55.44s\n",
      "       289           0.5294           50.76s\n",
      "       290           0.5283           46.26s\n",
      "       291           0.5281           41.63s\n",
      "       292           0.5279           36.97s\n",
      "       293           0.5274           32.35s\n",
      "       294           0.5266           27.77s\n",
      "       295           0.5257           23.21s\n",
      "       296           0.5252           18.58s\n",
      "       297           0.5247           13.94s\n",
      "       298           0.5243            9.28s\n",
      "       299           0.5242            4.64s\n",
      "       300           0.5240            0.00s\n",
      "Model Name : Gradient Boosting, Train Score = 0.4146619999068768, Test Score = 0.25615626895582, Train Set size = (68720, 1246)\n"
     ]
    }
   ],
   "source": [
    "numeric_col_names = ['latitude', 'longitude','attributes.Price Range']\n",
    "other_col_prefix = ['Ambience','Good For','Music', 'Parking', 'Dietary Restrictions', 'Hair', 'computed.category.', 'checkin_info']\n",
    "y_col_name = 'stars'\n",
    "gbr = GradientBoostingRegressor(n_estimators=300, max_depth = 8,  verbose=10)\n",
    "eval_res = eval_score(gbr, 'Gradient Boosting', business_checkin, numeric_col_names, other_col_prefix, y_col_name)"
   ]
  },
  {
   "cell_type": "markdown",
   "metadata": {},
   "source": [
    "#### So far the R2 score of 0.2561 is the best we have for predicting a business's star rating using its meta data, and check in info. "
   ]
  }
 ],
 "metadata": {
  "kernelspec": {
   "display_name": "Python 3",
   "language": "python",
   "name": "python3"
  },
  "language_info": {
   "codemirror_mode": {
    "name": "ipython",
    "version": 3
   },
   "file_extension": ".py",
   "mimetype": "text/x-python",
   "name": "python",
   "nbconvert_exporter": "python",
   "pygments_lexer": "ipython3",
   "version": "3.5.2"
  }
 },
 "nbformat": 4,
 "nbformat_minor": 0
}
